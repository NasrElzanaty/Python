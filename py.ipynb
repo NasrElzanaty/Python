{
 "cells": [
  {
   "cell_type": "markdown",
   "metadata": {},
   "source": [
    "# Numbers\n",
    "\n",
    "The interpreter acts as a simple calculator: you can type an expression at it and it will write the value. Expression syntax is straightforward: the operators +, -, * and / work just like in most other languages (for example, Pascal or C); parentheses (()) can be used for grouping. For example:"
   ]
  },
  {
   "cell_type": "code",
   "execution_count": 2,
   "metadata": {},
   "outputs": [
    {
     "data": {
      "text/plain": [
       "1.6"
      ]
     },
     "execution_count": 2,
     "metadata": {},
     "output_type": "execute_result"
    }
   ],
   "source": [
    "2 + 2\n",
    "\n",
    "50 - 5*6\n",
    "\n",
    "(50 - 5*6) / 4\n",
    "\n",
    "8 / 5  # division always returns a floating point number"
   ]
  },
  {
   "cell_type": "code",
   "execution_count": 3,
   "metadata": {},
   "outputs": [
    {
     "data": {
      "text/plain": [
       "900"
      ]
     },
     "execution_count": 3,
     "metadata": {},
     "output_type": "execute_result"
    }
   ],
   "source": [
    "width = 20\n",
    "height = 5 * 9\n",
    "width * height\n"
   ]
  },
  {
   "cell_type": "code",
   "execution_count": 4,
   "metadata": {},
   "outputs": [
    {
     "data": {
      "text/plain": [
       "900"
      ]
     },
     "execution_count": 4,
     "metadata": {},
     "output_type": "execute_result"
    }
   ],
   "source": [
    "tax = 12.5 / 100\n",
    "price = 100.50\n",
    "price * tax\n",
    "\n",
    "price + _\n",
    "\n",
    "round(_, 2)"
   ]
  },
  {
   "cell_type": "markdown",
   "metadata": {},
   "source": [
    "# Strings\n",
    "\n",
    "Besides numbers, Python can also manipulate strings, which can be expressed in several ways. They can be enclosed in single quotes ('...') or double quotes (\"...\") with the same result 2. \\ can be used to escape quotes:"
   ]
  },
  {
   "cell_type": "code",
   "execution_count": 5,
   "metadata": {},
   "outputs": [
    {
     "data": {
      "text/plain": [
       "'\"Isn\\'t,\" they said.'"
      ]
     },
     "execution_count": 5,
     "metadata": {},
     "output_type": "execute_result"
    }
   ],
   "source": [
    "'spam eggs'  # single quotes\n",
    "\n",
    "'doesn\\'t'  # use \\' to escape the single quote...\n",
    "\n",
    "\"doesn't\"  # ...or use double quotes instead\n",
    "\n",
    "'\"Yes,\" they said.'\n",
    "\n",
    "\"\\\"Yes,\\\" they said.\"\n",
    "\n",
    "'\"Isn\\'t,\" they said.'"
   ]
  },
  {
   "cell_type": "code",
   "execution_count": 6,
   "metadata": {},
   "outputs": [
    {
     "name": "stdout",
     "output_type": "stream",
     "text": [
      "\"Isn't,\" they said.\n",
      "First line.\n",
      "Second line.\n"
     ]
    }
   ],
   "source": [
    "'\"Isn\\'t,\" they said.'\n",
    "\n",
    "print('\"Isn\\'t,\" they said.')\n",
    "\n",
    "s = 'First line.\\nSecond line.'  # \\n means newline\n",
    "s  # without print(), \\n is included in the output\n",
    "\n",
    "print(s)  # with print(), \\n produces a new line"
   ]
  },
  {
   "cell_type": "code",
   "execution_count": 7,
   "metadata": {},
   "outputs": [
    {
     "data": {
      "text/plain": [
       "'Put several strings within parentheses to have them joined together.'"
      ]
     },
     "execution_count": 7,
     "metadata": {},
     "output_type": "execute_result"
    }
   ],
   "source": [
    "text = ('Put several strings within parentheses '\n",
    "        'to have them joined together.')\n",
    "text\n"
   ]
  },
  {
   "cell_type": "markdown",
   "metadata": {},
   "source": [
    "Strings can be indexed (subscripted), with the first character having index 0. There is no separate character type; a character is simply a string of size one:"
   ]
  },
  {
   "cell_type": "code",
   "execution_count": 8,
   "metadata": {},
   "outputs": [
    {
     "data": {
      "text/plain": [
       "'n'"
      ]
     },
     "execution_count": 8,
     "metadata": {},
     "output_type": "execute_result"
    }
   ],
   "source": [
    "word = 'Python'\n",
    "word[0]  # character in position 0\n",
    "\n",
    "word[5]  # character in position 5\n"
   ]
  },
  {
   "cell_type": "markdown",
   "metadata": {},
   "source": [
    "Indices may also be negative numbers, to start counting from the right:"
   ]
  },
  {
   "cell_type": "code",
   "execution_count": 9,
   "metadata": {},
   "outputs": [
    {
     "data": {
      "text/plain": [
       "'P'"
      ]
     },
     "execution_count": 9,
     "metadata": {},
     "output_type": "execute_result"
    }
   ],
   "source": [
    "word[-1]  # last character\n",
    "\n",
    "word[-2]  # second-last character\n",
    "\n",
    "word[-6]\n"
   ]
  },
  {
   "cell_type": "markdown",
   "metadata": {},
   "source": [
    "Note that since -0 is the same as 0, negative indices start from -1.\n",
    "\n",
    "In addition to indexing, slicing is also supported. While indexing is used to obtain individual characters, slicing allows you to obtain substring:"
   ]
  },
  {
   "cell_type": "code",
   "execution_count": null,
   "metadata": {},
   "outputs": [],
   "source": [
    "word[0:2]  # characters from position 0 (included) to 2 (excluded)\n",
    "\n",
    "word[2:5]  # characters from position 2 (included) to 5 (excluded)"
   ]
  },
  {
   "cell_type": "markdown",
   "metadata": {},
   "source": [
    "Slice indices have useful defaults; an omitted first index defaults to zero, an omitted second index defaults to the size of the string being sliced"
   ]
  },
  {
   "cell_type": "code",
   "execution_count": 10,
   "metadata": {},
   "outputs": [
    {
     "data": {
      "text/plain": [
       "'on'"
      ]
     },
     "execution_count": 10,
     "metadata": {},
     "output_type": "execute_result"
    }
   ],
   "source": [
    "word[:2]   # character from the beginning to position 2 (excluded)\n",
    "word[4:]   # characters from position 4 (included) to the end\n",
    "word[-2:]  # characters from the second-last (included) to the e"
   ]
  },
  {
   "cell_type": "code",
   "execution_count": 12,
   "metadata": {},
   "outputs": [],
   "source": [
    "fname='nnnasr'\n",
    "print(fname.capitalize())\n",
    "print(fname.casefold())"
   ]
  },
  {
   "cell_type": "code",
   "execution_count": 1,
   "metadata": {},
   "outputs": [
    {
     "name": "stdout",
     "output_type": "stream",
     "text": [
      "Number of occurrence of p: 4\n"
     ]
    }
   ],
   "source": [
    "message = 'python is popular programming language'\n",
    "\n",
    "# number of occurrence of 'p'\n",
    "print('Number of occurrence of p:', message.count('p'))\n",
    "\n",
    "# Output: Number of occurrence of p: 4"
   ]
  },
  {
   "cell_type": "markdown",
   "metadata": {},
   "source": [
    "count() Parameters\n",
    "\n",
    "count() method only requires a single parameter for execution. However, it also has two optional parameters:\n",
    "\n",
    "    substring - string whose count is to be found.\n",
    "    start (Optional) - starting index within the string where search starts.\n",
    "    end (Optional) - ending index within the string where search ends.\n"
   ]
  },
  {
   "cell_type": "code",
   "execution_count": 2,
   "metadata": {},
   "outputs": [
    {
     "name": "stdout",
     "output_type": "stream",
     "text": [
      "The count is: 2\n"
     ]
    }
   ],
   "source": [
    "# define string\n",
    "string = \"Python is awesome, isn't it?\"\n",
    "substring = \"is\"\n",
    "\n",
    "count = string.count(substring)\n",
    "\n",
    "# print count\n",
    "print(\"The count is:\", count)"
   ]
  },
  {
   "cell_type": "markdown",
   "metadata": {},
   "source": [
    "count() Return Value\n",
    "\n",
    "count() method returns the number of occurrences of the substring in the given string."
   ]
  },
  {
   "cell_type": "code",
   "execution_count": null,
   "metadata": {},
   "outputs": [],
   "source": [
    "# define string\n",
    "string = \"Python is awesome, isn't it?\"\n",
    "substring = \"is\"\n",
    "\n",
    "count = string.count(substring)\n",
    "\n",
    "# print count\n",
    "print(\"The count is:\", count)"
   ]
  },
  {
   "cell_type": "markdown",
   "metadata": {},
   "source": [
    "Example 2: Count number of occurrences of a given substring using start and end"
   ]
  },
  {
   "cell_type": "code",
   "execution_count": null,
   "metadata": {},
   "outputs": [],
   "source": [
    "# define string\n",
    "string = \"Python is awesome, isn't it?\"\n",
    "substring = \"i\"\n",
    "\n",
    "# count after first 'i' and before the last 'i'\n",
    "count = string.count(substring, 8, 25)\n",
    "\n",
    "# print count\n",
    "print(\"The count is:\", count)"
   ]
  },
  {
   "cell_type": "markdown",
   "metadata": {},
   "source": [
    "Python String endswith()\n",
    "\n",
    "In this tutorial, we will learn about the Python String endswith() method with the help of example\n",
    "The endswith() method returns True if a string ends with the specified suffix. If not, it returns False.\n",
    "Example"
   ]
  },
  {
   "cell_type": "code",
   "execution_count": null,
   "metadata": {},
   "outputs": [],
   "source": [
    "message = 'Python is fun'\n",
    "\n",
    "# check if the message ends with fun\n",
    "print(message.endswith('fun'))\n",
    "\n",
    "# Output: True"
   ]
  },
  {
   "cell_type": "markdown",
   "metadata": {},
   "source": [
    "endswith() Parameters\n",
    "\n",
    "The endswith() takes three parameters:\n",
    "\n",
    "    suffix - String or tuple of suffixes to be checked\n",
    "    start (optional) - Beginning position where suffix is to be checked within the string.\n",
    "    end (optional) - Ending position where suffix is to be checked within the string.\n",
    "\n",
    "Return Value from endswith()\n",
    "\n",
    "The endswith() method returns a boolean.\n",
    "\n",
    "    It returns True if a string ends with the specified suffix.\n",
    "    It returns False if a string doesn't end with the specified suffix.\n"
   ]
  },
  {
   "cell_type": "code",
   "execution_count": null,
   "metadata": {},
   "outputs": [],
   "source": [
    "text = \"Python is easy to learn.\"\n",
    "\n",
    "result = text.endswith('to learn')\n",
    "# returns False\n",
    "print(result)\n",
    "\n",
    "result = text.endswith('to learn.')\n",
    "# returns True\n",
    "print(result)\n",
    "\n",
    "result = text.endswith('Python is easy to learn.')\n",
    "# returns True\n",
    "print(result)"
   ]
  },
  {
   "cell_type": "code",
   "execution_count": null,
   "metadata": {},
   "outputs": [],
   "source": [
    "# Example 2: endswith() With start and end Parameters"
   ]
  },
  {
   "cell_type": "code",
   "execution_count": null,
   "metadata": {},
   "outputs": [],
   "source": [
    "text = \"Python programming is easy to learn.\"\n",
    "\n",
    "# start parameter: 7\n",
    "# \"programming is easy to learn.\" string is searched\n",
    "result = text.endswith('learn.', 7)\n",
    "print(result)\n",
    "\n",
    "# Both start and end is provided\n",
    "# start: 7, end: 26\n",
    "# \"programming is easy\" string is searched\n",
    "\n",
    "result = text.endswith('is', 7, 26)\n",
    "# Returns False\n",
    "print(result)\n",
    "\n",
    "result = text.endswith('easy', 7, 26)\n",
    "# returns True\n",
    "print(result)"
   ]
  },
  {
   "cell_type": "code",
   "execution_count": null,
   "metadata": {},
   "outputs": [],
   "source": [
    "text = \"programming is easy\"\n",
    "result = text.endswith(('programming', 'python'))\n",
    "\n",
    "# prints False\n",
    "print(result)\n",
    "\n",
    "result = text.endswith(('python', 'easy', 'java'))\n",
    "\n",
    "#prints True\n",
    "print(result)\n",
    "\n",
    "# With start and end parameter\n",
    "# 'programming is' string is checked\n",
    "result = text.endswith(('is', 'an'), 0, 14)\n",
    "\n",
    "# prints True\n",
    "print(result)"
   ]
  },
  {
   "cell_type": "code",
   "execution_count": null,
   "metadata": {},
   "outputs": [],
   "source": [
    "str = \"xyz\\t12345\\tabc\"\n",
    "print('Original String:', str)\n",
    "\n",
    "# tabsize is set to 2\n",
    "print('Tabsize 2:', str.expandtabs(2))\n",
    "\n",
    "# tabsize is set to 3\n",
    "print('Tabsize 3:', str.expandtabs(3))\n",
    "\n",
    "# tabsize is set to 4\n",
    "print('Tabsize 4:', str.expandtabs(4))\n",
    "\n",
    "# tabsize is set to 5\n",
    "print('Tabsize 5:', str.expandtabs(5))\n",
    "\n",
    "# tabsize is set to 6\n",
    "print('Tabsize 6:', str.expandtabs(6))"
   ]
  },
  {
   "cell_type": "markdown",
   "metadata": {},
   "source": [
    "# Python String encode()"
   ]
  },
  {
   "cell_type": "code",
   "execution_count": null,
   "metadata": {},
   "outputs": [],
   "source": [
    "title = 'Python Programming'\n",
    "\n",
    "# change encoding to utf-8\n",
    "print(title.encode())\n",
    "\n",
    "# Output: b'Python Programming'"
   ]
  },
  {
   "cell_type": "markdown",
   "metadata": {},
   "source": [
    "String encode() Parameters\n",
    "\n",
    "By default, the encode() method doesn't require any parameters.\n",
    "\n",
    "It returns an utf-8 encoded version of the string. In case of failure, it raises a UnicodeDecodeError exception.\n",
    "\n",
    "However, it takes two parameters:\n",
    "\n",
    "    encoding - the encoding type a string has to be encoded to\n",
    "    errors - response when encoding fails. There are six types of error response\n",
    "        strict - default response which raises a UnicodeDecodeError exception on failure\n",
    "        ignore - ignores the unencodable unicode from the result\n",
    "        replace - replaces the unencodable unicode to a question mark ?\n",
    "        xmlcharrefreplace - inserts XML character reference instead of unencodable unicode\n",
    "        backslashreplace - inserts a \\uNNNN escape sequence instead of unencodable unicode\n",
    "        namereplace - inserts a \\N{...} escape sequence instead of unencodable unicode\n"
   ]
  },
  {
   "cell_type": "code",
   "execution_count": 3,
   "metadata": {},
   "outputs": [
    {
     "name": "stdout",
     "output_type": "stream",
     "text": [
      "The string is: pythön!\n",
      "The encoded version is: b'pyth\\xc3\\xb6n!'\n"
     ]
    }
   ],
   "source": [
    "# unicode string\n",
    "string = 'pythön!'\n",
    "\n",
    "# print string\n",
    "print('The string is:', string)\n",
    "\n",
    "# default encoding to utf-8\n",
    "string_utf = string.encode()\n",
    "\n",
    "# print result\n",
    "print('The encoded version is:', string_utf)"
   ]
  },
  {
   "cell_type": "code",
   "execution_count": null,
   "metadata": {},
   "outputs": [],
   "source": [
    "# unicode string\n",
    "string = 'pythön!'\n",
    "\n",
    "# print string\n",
    "print('The string is:', string)\n",
    "\n",
    "# ignore error\n",
    "print('The encoded version (with ignore) is:', string.encode(\"ascii\", \"ignore\"))\n",
    "\n",
    "# replace error\n",
    "print('The encoded version (with replace) is:', string.encode(\"ascii\", \"replace\"))"
   ]
  },
  {
   "cell_type": "markdown",
   "metadata": {},
   "source": [
    "# Python String find()"
   ]
  },
  {
   "cell_type": "code",
   "execution_count": null,
   "metadata": {},
   "outputs": [],
   "source": [
    "The find() method returns the index of first occurrence of the substring (if found). If not found, it returns -1.\n",
    "Example"
   ]
  },
  {
   "cell_type": "code",
   "execution_count": null,
   "metadata": {},
   "outputs": [],
   "source": [
    "message = 'Python is a fun programming language'\n",
    "\n",
    "# check the index of 'fun'\n",
    "print(message.find('fun'))\n",
    "\n",
    "# Output: 12"
   ]
  },
  {
   "cell_type": "code",
   "execution_count": null,
   "metadata": {},
   "outputs": [],
   "source": [
    "quote = 'Let it be, let it be, let it be'\n",
    "\n",
    "# first occurance of 'let it'(case sensitive)\n",
    "result = quote.find('let it')\n",
    "print(\"Substring 'let it':\", result)\n",
    "\n",
    "# find returns -1 if substring not found\n",
    "result = quote.find('small')\n",
    "print(\"Substring 'small ':\", result)\n",
    "\n",
    "# How to use find()\n",
    "if (quote.find('be,') != -1):\n",
    "    print(\"Contains substring 'be,'\")\n",
    "else:\n",
    "    print(\"Doesn't contain substring\")"
   ]
  },
  {
   "cell_type": "code",
   "execution_count": null,
   "metadata": {},
   "outputs": [],
   "source": [
    "quote = 'Do small things with great love'\n",
    "\n",
    "# Substring is searched in 'hings with great love'\n",
    "print(quote.find('small things', 10))\n",
    "\n",
    "# Substring is searched in ' small things with great love' \n",
    "print(quote.find('small things', 2))\n",
    "\n",
    "# Substring is searched in 'hings with great lov'\n",
    "print(quote.find('o small ', 10, -1))\n",
    "\n",
    "# Substring is searched in 'll things with'\n",
    "print(quote.find('things ', 6, 20))"
   ]
  },
  {
   "cell_type": "markdown",
   "metadata": {},
   "source": [
    "# Python String format()"
   ]
  },
  {
   "cell_type": "code",
   "execution_count": 4,
   "metadata": {},
   "outputs": [
    {
     "name": "stdout",
     "output_type": "stream",
     "text": [
      "Hello Adam, your balance is 230.2346.\n",
      "Hello Adam, your balance is 230.2346.\n",
      "Hello Adam, your balance is 230.2346.\n",
      "Hello Adam, your balance is 230.2346.\n"
     ]
    }
   ],
   "source": [
    "# default arguments\n",
    "print(\"Hello {}, your balance is {}.\".format(\"Adam\", 230.2346))\n",
    "\n",
    "# positional arguments\n",
    "print(\"Hello {0}, your balance is {1}.\".format(\"Adam\", 230.2346))\n",
    "\n",
    "# keyword arguments\n",
    "print(\"Hello {name}, your balance is {blc}.\".format(name=\"Adam\", blc=230.2346))\n",
    "\n",
    "# mixed arguments\n",
    "print(\"Hello {0}, your balance is {blc}.\".format(\"Adam\", blc=230.2346))"
   ]
  },
  {
   "cell_type": "markdown",
   "metadata": {},
   "source": [
    "Numbers formatting with format()\n",
    "\n",
    "You can format numbers using the format specifier given below:\n",
    "Number Formatting Types\n",
    "\tType\n",
    "\t\t\t\tMeaning\n",
    "\t\t\n",
    "d\n",
    "\t\t\t\tDecimal integer\n",
    "\t\t\n",
    "c\n",
    "\t\t\t\tCorresponding Unicode character\n",
    "\t\t\n",
    "b\n",
    "\t\t\t\tBinary format\n",
    "\t\t\n",
    "o\n",
    "\t\t\t\tOctal format\n",
    "\t\t\n",
    "x\n",
    "\t\t\t\tHexadecimal format (lower case)\n",
    "\t\t\n",
    "X\n",
    "\t\t\t\tHexadecimal format (upper case)\n",
    "\t\t\n",
    "n\n",
    "\t\t\t\tSame as 'd'. Except it uses current locale setting for number separator\n",
    "\t\t\n",
    "e\n",
    "\t\t\t\tExponential notation. (lowercase e)\n",
    "\t\t\n",
    "E\n",
    "\t\t\t\tExponential notation (uppercase E)\n",
    "\t\t\n",
    "f\n",
    "\t\t\t\tDisplays fixed point number (Default: 6)\n",
    "\t\t\n",
    "F\n",
    "\t\t\t\tSame as 'f'. Except displays 'inf' as 'INF' and 'nan' as 'NAN'\n",
    "\t\t\n",
    "g\n",
    "\t\t\t\tGeneral format. Rounds number to p significant digits. (Default precision: 6)\n",
    "\t\t\n",
    "G\n",
    "\t\t\t\tSame as 'g'. Except switches to 'E' if the number is large.\n",
    "\t\t\n",
    "%\n",
    "\t\t\t\tPercentage. Multiples by 100 and puts % at the end."
   ]
  },
  {
   "cell_type": "code",
   "execution_count": 5,
   "metadata": {},
   "outputs": [
    {
     "name": "stdout",
     "output_type": "stream",
     "text": [
      "The number is:123\n",
      "The float number is:123.456790\n",
      "bin: 1100, oct: 14, hex: c\n"
     ]
    }
   ],
   "source": [
    "# integer arguments\n",
    "print(\"The number is:{:d}\".format(123))\n",
    "\n",
    "# float arguments\n",
    "print(\"The float number is:{:f}\".format(123.4567898))\n",
    "\n",
    "# octal, binary and hexadecimal format\n",
    "print(\"bin: {0:b}, oct: {0:o}, hex: {0:x}\".format(12))"
   ]
  },
  {
   "cell_type": "code",
   "execution_count": null,
   "metadata": {},
   "outputs": [],
   "source": [
    "# integer numbers with minimum width\n",
    "print(\"{:5d}\".format(12))\n",
    "\n",
    "# width doesn't work for numbers longer than padding\n",
    "print(\"{:2d}\".format(1234))\n",
    "\n",
    "# padding for float numbers\n",
    "print(\"{:8.3f}\".format(12.2346))\n",
    "\n",
    "# integer numbers with minimum width filled with zeros\n",
    "print(\"{:05d}\".format(12))\n",
    "\n",
    "# padding for float numbers filled with zeros\n",
    "print(\"{:08.3f}\".format(12.2346))"
   ]
  },
  {
   "cell_type": "markdown",
   "metadata": {},
   "source": [
    "Here,\n",
    "\n",
    "    in the first statement, {:5d} takes an integer argument and assigns a minimum width of 5. Since, no alignment is specified, it is aligned to the right.\n",
    "    In the second statement, you can see the width (2) is less than the number (1234), so it doesn't take any space to the left but also doesn't truncate the number.\n",
    "    Unlike integers, floats has both integer and decimal parts. And, the mininum width defined to the number is for both parts as a whole including \".\".\n",
    "    In the third statement, {:8.3f} truncates the decimal part into 3 places rounding off the last 2 digits. And, the number, now 12.235, takes a width of 8 as a whole leaving 2 places to the left.\n",
    "    If you want to fill the remaining places with zero, placing a zero before the format specifier does this. It works both for integers and floats: {:05d} and {:08.3f}"
   ]
  },
  {
   "cell_type": "code",
   "execution_count": 6,
   "metadata": {},
   "outputs": [
    {
     "name": "stdout",
     "output_type": "stream",
     "text": [
      "+12.230000 -12.230000\n",
      "12.230000 -12.230000\n",
      " 12.230000 -12.230000\n"
     ]
    }
   ],
   "source": [
    "# show the + sign\n",
    "print(\"{:+f} {:+f}\".format(12.23, -12.23))\n",
    "\n",
    "# show the - sign only\n",
    "print(\"{:-f} {:-f}\".format(12.23, -12.23))\n",
    "\n",
    "# show space for + sign\n",
    "print(\"{: f} {: f}\".format(12.23, -12.23))"
   ]
  },
  {
   "cell_type": "code",
   "execution_count": null,
   "metadata": {},
   "outputs": [],
   "source": [
    "# integer numbers with right alignment\n",
    "print(\"{:5d}\".format(12))\n",
    "\n",
    "# float numbers with center alignment\n",
    "print(\"{:^10.3f}\".format(12.2346))\n",
    "\n",
    "# integer left alignment filled with zeros\n",
    "print(\"{:<05d}\".format(12))\n",
    "\n",
    "# float numbers with center alignment\n",
    "print(\"{:=8.3f}\".format(-12.2346))# integer numbers with right alignment\n",
    "print(\"{:5d}\".format(12))\n",
    "\n",
    "# float numbers with center alignment\n",
    "print(\"{:^10.3f}\".format(12.2346))\n",
    "\n",
    "# integer left alignment filled with zeros\n",
    "print(\"{:<05d}\".format(12))\n",
    "\n",
    "# float numbers with center alignment\n",
    "print(\"{:=8.3f}\".format(-12.2346))"
   ]
  },
  {
   "cell_type": "code",
   "execution_count": 7,
   "metadata": {},
   "outputs": [
    {
     "name": "stdout",
     "output_type": "stream",
     "text": [
      "cat  \n",
      "  cat\n",
      " cat \n",
      "*cat*\n"
     ]
    }
   ],
   "source": [
    "# string padding with left alignment\n",
    "print(\"{:5}\".format(\"cat\"))\n",
    "\n",
    "# string padding with right alignment\n",
    "print(\"{:>5}\".format(\"cat\"))\n",
    "\n",
    "# string padding with center alignment\n",
    "print(\"{:^5}\".format(\"cat\"))\n",
    "\n",
    "# string padding with center alignment\n",
    "# and '*' padding character\n",
    "print(\"{:*^5}\".format(\"cat\"))"
   ]
  },
  {
   "cell_type": "code",
   "execution_count": 8,
   "metadata": {},
   "outputs": [
    {
     "name": "stdout",
     "output_type": "stream",
     "text": [
      "cat\n",
      "cat  \n",
      " cat \n"
     ]
    }
   ],
   "source": [
    "# truncating strings to 3 letters\n",
    "print(\"{:.3}\".format(\"caterpillar\"))\n",
    "\n",
    "# truncating strings to 3 letters\n",
    "# and padding\n",
    "print(\"{:5.3}\".format(\"caterpillar\"))\n",
    "\n",
    "# truncating strings to 3 letters,\n",
    "# padding and center alignment\n",
    "print(\"{:^5.3}\".format(\"caterpillar\"))"
   ]
  },
  {
   "cell_type": "markdown",
   "metadata": {},
   "source": [
    "Formatting class and dictionary members using format()\n",
    "\n",
    "Python internally uses getattr() for class members in the form \".age\". And, it uses __getitem__() lookup for dictionary members in the form \"[index]\".\n",
    "Example 8: Formatting class members using format()"
   ]
  },
  {
   "cell_type": "code",
   "execution_count": 9,
   "metadata": {},
   "outputs": [
    {
     "name": "stdout",
     "output_type": "stream",
     "text": [
      "Adam's age is: 23\n"
     ]
    }
   ],
   "source": [
    "# define Person class\n",
    "class Person:\n",
    "    age = 23\n",
    "    name = \"Adam\"\n",
    "\n",
    "# format age\n",
    "print(\"{p.name}'s age is: {p.age}\".format(p=Person()))"
   ]
  },
  {
   "cell_type": "code",
   "execution_count": 10,
   "metadata": {},
   "outputs": [
    {
     "name": "stdout",
     "output_type": "stream",
     "text": [
      "Adam's age is: 23\n"
     ]
    }
   ],
   "source": [
    "# define Person dictionary\n",
    "person = {'age': 23, 'name': 'Adam'}\n",
    "\n",
    "# format age\n",
    "print(\"{p[name]}'s age is: {p[age]}\".format(p=person))"
   ]
  },
  {
   "cell_type": "code",
   "execution_count": null,
   "metadata": {},
   "outputs": [],
   "source": [
    "# define Person dictionary\n",
    "person = {'age': 23, 'name': 'Adam'}\n",
    "\n",
    "# format age\n",
    "print(\"{name}'s age is: {age}\".format(**person))"
   ]
  },
  {
   "cell_type": "code",
   "execution_count": null,
   "metadata": {},
   "outputs": [],
   "source": [
    "# dynamic string format template\n",
    "string = \"{:{fill}{align}{width}}\"\n",
    "\n",
    "# passing format codes as arguments\n",
    "print(string.format('cat', fill='*', align='^', width=5))\n",
    "\n",
    "# dynamic float format template\n",
    "num = \"{:{align}{width}.{precision}f}\"\n",
    "\n",
    "# passing format codes as arguments\n",
    "print(num.format(123.236, align='<', width=8, precision=2))\n",
    "\n"
   ]
  },
  {
   "cell_type": "code",
   "execution_count": null,
   "metadata": {},
   "outputs": [],
   "source": [
    "import datetime\n",
    "# datetime formatting\n",
    "date = datetime.datetime.now()\n",
    "print(\"It's now: {:%Y/%m/%d %H:%M:%S}\".format(date))\n",
    "\n",
    "# complex number formatting\n",
    "complexNumber = 1+2j\n",
    "print(\"Real part: {0.real} and Imaginary part: {0.imag}\".format(complexNumber))\n",
    "\n",
    "# custom __format__() method\n",
    "class Person:\n",
    "    def __format__(self, format):\n",
    "        if(format == 'age'):\n",
    "            return '23'\n",
    "        return 'None'\n",
    "\n",
    "print(\"Adam's age is: {:age}\".format(Person()))"
   ]
  },
  {
   "cell_type": "code",
   "execution_count": null,
   "metadata": {},
   "outputs": [],
   "source": [
    "# __str__() and __repr__() shorthand !r and !s\n",
    "print(\"Quotes: {0!r}, Without Quotes: {0!s}\".format(\"cat\"))\n",
    "\n",
    "# __str__() and __repr__() implementation for class\n",
    "class Person:\n",
    "    def __str__(self):\n",
    "        return \"STR\"\n",
    "    def __repr__(self):\n",
    "        return \"REPR\"\n",
    "\n",
    "print(\"repr: {p!r}, str: {p!s}\".format(p=Person()))"
   ]
  },
  {
   "cell_type": "markdown",
   "metadata": {},
   "source": [
    "# Python String format\n",
    "String format() Parameters\n",
    "\n",
    "format() method takes any number of parameters. But, is divided into two types of parameters:\n",
    "\n",
    "    Positional parameters - list of parameters that can be accessed with index of parameter inside curly braces {index}\n",
    "    Keyword parameters - list of parameters of type key=value, that can be accessed with key of parameter inside curly braces {key}\n",
    "\n"
   ]
  },
  {
   "cell_type": "code",
   "execution_count": 1,
   "metadata": {},
   "outputs": [
    {
     "name": "stdout",
     "output_type": "stream",
     "text": [
      "Hello Adam, your balance is 230.2346.\n",
      "Hello Adam, your balance is 230.2346.\n",
      "Hello Adam, your balance is 230.2346.\n",
      "Hello Adam, your balance is 230.2346.\n"
     ]
    }
   ],
   "source": [
    "# default arguments\n",
    "print(\"Hello {}, your balance is {}.\".format(\"Adam\", 230.2346))\n",
    "\n",
    "# positional arguments\n",
    "print(\"Hello {0}, your balance is {1}.\".format(\"Adam\", 230.2346))\n",
    "\n",
    "# keyword arguments\n",
    "print(\"Hello {name}, your balance is {blc}.\".format(name=\"Adam\", blc=230.2346))\n",
    "\n",
    "# mixed arguments\n",
    "print(\"Hello {0}, your balance is {blc}.\".format(\"Adam\", blc=230.2346))"
   ]
  },
  {
   "cell_type": "code",
   "execution_count": 2,
   "metadata": {},
   "outputs": [
    {
     "name": "stdout",
     "output_type": "stream",
     "text": [
      "The number is:123\n",
      "The float number is:123.456790\n",
      "bin: 1100, oct: 14, hex: c\n"
     ]
    }
   ],
   "source": [
    "# integer arguments\n",
    "print(\"The number is:{:d}\".format(123))\n",
    "\n",
    "# float arguments\n",
    "print(\"The float number is:{:f}\".format(123.4567898))\n",
    "\n",
    "# octal, binary and hexadecimal format\n",
    "print(\"bin: {0:b}, oct: {0:o}, hex: {0:x}\".format(12))"
   ]
  },
  {
   "cell_type": "code",
   "execution_count": 3,
   "metadata": {},
   "outputs": [
    {
     "name": "stdout",
     "output_type": "stream",
     "text": [
      "   12\n",
      "1234\n",
      "  12.235\n",
      "00012\n",
      "0012.235\n"
     ]
    }
   ],
   "source": [
    "# integer numbers with minimum width\n",
    "print(\"{:5d}\".format(12))\n",
    "\n",
    "# width doesn't work for numbers longer than padding\n",
    "print(\"{:2d}\".format(1234))\n",
    "\n",
    "# padding for float numbers\n",
    "print(\"{:8.3f}\".format(12.2346))\n",
    "\n",
    "# integer numbers with minimum width filled with zeros\n",
    "print(\"{:05d}\".format(12))\n",
    "\n",
    "# padding for float numbers filled with zeros\n",
    "print(\"{:08.3f}\".format(12.2346))"
   ]
  },
  {
   "cell_type": "markdown",
   "metadata": {},
   "source": [
    "Number formatting for signed numbers"
   ]
  },
  {
   "cell_type": "code",
   "execution_count": 4,
   "metadata": {},
   "outputs": [
    {
     "name": "stdout",
     "output_type": "stream",
     "text": [
      "+12.230000 -12.230000\n",
      "12.230000 -12.230000\n",
      " 12.230000 -12.230000\n"
     ]
    }
   ],
   "source": [
    "# show the + sign\n",
    "print(\"{:+f} {:+f}\".format(12.23, -12.23))\n",
    "\n",
    "# show the - sign only\n",
    "print(\"{:-f} {:-f}\".format(12.23, -12.23))\n",
    "\n",
    "# show space for + sign\n",
    "print(\"{: f} {: f}\".format(12.23, -12.23))"
   ]
  },
  {
   "cell_type": "markdown",
   "metadata": {},
   "source": [
    "Number formatting with alignment\n",
    "\n",
    "The operators <, ^, > and = are used for alignment when assigned a certain width to the numbers.\n",
    "Number formatting with alignment\n",
    "\tType\n",
    "\t\t\t\tMeaning\n",
    "\t\t\n",
    "<\n",
    "\t\t\t\tLeft aligned to the remaining space\n",
    "\t\t\n",
    "^\n",
    "\t\t\t\tCenter aligned to the remaining space\n",
    "\t\t\n",
    ">\n",
    "\t\t\t\tRight aligned to the remaining space\n",
    "\t\t\n",
    "=\n",
    "\t\t\t\tForces the signed (+) (-) to the leftmost position"
   ]
  },
  {
   "cell_type": "code",
   "execution_count": 5,
   "metadata": {},
   "outputs": [
    {
     "name": "stdout",
     "output_type": "stream",
     "text": [
      "   12\n",
      "  12.235  \n",
      "12000\n",
      "- 12.235\n"
     ]
    }
   ],
   "source": [
    "# integer numbers with right alignment\n",
    "print(\"{:5d}\".format(12))\n",
    "\n",
    "# float numbers with center alignment\n",
    "print(\"{:^10.3f}\".format(12.2346))\n",
    "\n",
    "# integer left alignment filled with zeros\n",
    "print(\"{:<05d}\".format(12))\n",
    "\n",
    "# float numbers with center alignment\n",
    "print(\"{:=8.3f}\".format(-12.2346))"
   ]
  },
  {
   "cell_type": "markdown",
   "metadata": {},
   "source": [
    "String formatting with padding and alignment"
   ]
  },
  {
   "cell_type": "code",
   "execution_count": 6,
   "metadata": {},
   "outputs": [
    {
     "name": "stdout",
     "output_type": "stream",
     "text": [
      "cat  \n",
      "  cat\n",
      " cat \n",
      "*cat*\n"
     ]
    }
   ],
   "source": [
    "# string padding with left alignment\n",
    "print(\"{:5}\".format(\"cat\"))\n",
    "\n",
    "# string padding with right alignment\n",
    "print(\"{:>5}\".format(\"cat\"))\n",
    "\n",
    "# string padding with center alignment\n",
    "print(\"{:^5}\".format(\"cat\"))\n",
    "\n",
    "# string padding with center alignment\n",
    "# and '*' padding character\n",
    "print(\"{:*^5}\".format(\"cat\"))"
   ]
  },
  {
   "cell_type": "markdown",
   "metadata": {},
   "source": [
    "Example 7: Truncating strings with format()"
   ]
  },
  {
   "cell_type": "code",
   "execution_count": 7,
   "metadata": {},
   "outputs": [
    {
     "name": "stdout",
     "output_type": "stream",
     "text": [
      "cat\n",
      "cat  \n",
      " cat \n"
     ]
    }
   ],
   "source": [
    "# truncating strings to 3 letters\n",
    "print(\"{:.3}\".format(\"caterpillar\"))\n",
    "\n",
    "# truncating strings to 3 letters\n",
    "# and padding\n",
    "print(\"{:5.3}\".format(\"caterpillar\"))\n",
    "\n",
    "# truncating strings to 3 letters,\n",
    "# padding and center alignment\n",
    "print(\"{:^5.3}\".format(\"caterpillar\"))"
   ]
  },
  {
   "cell_type": "markdown",
   "metadata": {},
   "source": [
    "Formatting class and dictionary members using format"
   ]
  },
  {
   "cell_type": "code",
   "execution_count": null,
   "metadata": {},
   "outputs": [],
   "source": [
    "# define Person class\n",
    "class Person:\n",
    "    age = 23\n",
    "    name = \"Adam\"\n",
    "\n",
    "# format age\n",
    "print(\"{p.name}'s age is: {p.age}\".format(p=Person()))"
   ]
  },
  {
   "cell_type": "markdown",
   "metadata": {},
   "source": [
    "Example 9: Formatting dictionary members using format()"
   ]
  },
  {
   "cell_type": "markdown",
   "metadata": {},
   "source": [
    "# define Person dictionary\n",
    "person = {'age': 23, 'name': 'Adam'}\n",
    "\n",
    "# format age\n",
    "print(\"{p[name]}'s age is: {p[age]}\".format(p=person))"
   ]
  },
  {
   "cell_type": "code",
   "execution_count": null,
   "metadata": {},
   "outputs": [],
   "source": [
    "# define Person dictionary\n",
    "person = {'age': 23, 'name': 'Adam'}\n",
    "\n",
    "# format age\n",
    "print(\"{name}'s age is: {age}\".format(**person))"
   ]
  },
  {
   "cell_type": "markdown",
   "metadata": {},
   "source": [
    "Arguments as format codes using format()"
   ]
  },
  {
   "cell_type": "code",
   "execution_count": null,
   "metadata": {},
   "outputs": [],
   "source": [
    "# dynamic string format template\n",
    "string = \"{:{fill}{align}{width}}\"\n",
    "\n",
    "# passing format codes as arguments\n",
    "print(string.format('cat', fill='*', align='^', width=5))\n",
    "\n",
    "# dynamic float format template\n",
    "num = \"{:{align}{width}.{precision}f}\"\n",
    "\n",
    "# passing format codes as arguments\n",
    "print(num.format(123.236, align='<', width=8, precision=2))"
   ]
  },
  {
   "cell_type": "code",
   "execution_count": null,
   "metadata": {},
   "outputs": [],
   "source": [
    "import datetime\n",
    "# datetime formatting\n",
    "date = datetime.datetime.now()\n",
    "print(\"It's now: {:%Y/%m/%d %H:%M:%S}\".format(date))\n",
    "\n",
    "# complex number formatting\n",
    "complexNumber = 1+2j\n",
    "print(\"Real part: {0.real} and Imaginary part: {0.imag}\".format(complexNumber))\n",
    "\n",
    "# custom __format__() method\n",
    "class Person:\n",
    "    def __format__(self, format):\n",
    "        if(format == 'age'):\n",
    "            return '23'\n",
    "        return 'None'\n",
    "\n",
    "print(\"Adam's age is: {:age}\".format(Person()))"
   ]
  },
  {
   "cell_type": "markdown",
   "metadata": {},
   "source": [
    "# Python String index"
   ]
  },
  {
   "cell_type": "markdown",
   "metadata": {},
   "source": [
    "The index() method returns the index of a substring inside the string (if found). If the substring is not found, it raises an exception.\n",
    "Example"
   ]
  },
  {
   "cell_type": "code",
   "execution_count": null,
   "metadata": {},
   "outputs": [],
   "source": [
    "text = 'Python is fun'\n",
    "\n",
    "# find the index of is\n",
    "result = text.index('is')\n",
    "print(result)\n",
    "\n",
    "# Output: 7"
   ]
  },
  {
   "cell_type": "markdown",
   "metadata": {},
   "source": [
    "index() Syntax\n",
    "\n",
    "It's syntax is:\n",
    "\n",
    "str.index(sub[, start[, end]] "
   ]
  },
  {
   "cell_type": "markdown",
   "metadata": {},
   "source": [
    "index() Parameters\n",
    "\n",
    "The index() method takes three parameters:\n",
    "\n",
    "    sub - substring to be searched in the string str.\n",
    "    start and end(optional) - substring is searched within str[start:end]\n"
   ]
  },
  {
   "cell_type": "markdown",
   "metadata": {},
   "source": [
    "index() Return Value\n",
    "\n",
    "    If substring exists inside the string, it returns the lowest index in the string where substring is found.\n",
    "    If substring doesn't exist inside the string, it raises a ValueError exception.\n",
    "\n",
    "The index() method is similar to the find() method for strings.\n",
    "\n",
    "The only difference is that find() method returns -1 if the substring is not found, whereas index() throws an exception."
   ]
  },
  {
   "cell_type": "code",
   "execution_count": 8,
   "metadata": {},
   "outputs": [
    {
     "name": "stdout",
     "output_type": "stream",
     "text": [
      "Substring 'is fun': 19\n"
     ]
    }
   ],
   "source": [
    "sentence = 'Python programming is fun.'\n",
    "\n",
    "result = sentence.index('is fun')\n",
    "print(\"Substring 'is fun':\", result)\n",
    "\n",
    "result = sentence.index('Java')\n",
    "print(\"Substring 'Java':\", result)"
   ]
  },
  {
   "cell_type": "markdown",
   "metadata": {},
   "source": [
    "Example 2: index() With start and end Arguments"
   ]
  },
  {
   "cell_type": "code",
   "execution_count": null,
   "metadata": {},
   "outputs": [],
   "source": [
    "sentence = 'Python programming is fun.'\n",
    "\n",
    "# Substring is searched in 'gramming is fun.'\n",
    "print(sentence.index('ing', 10))\n",
    "\n",
    "# Substring is searched in 'gramming is '\n",
    "print(sentence.index('g is', 10, -4))\n",
    "\n",
    "# Substring is searched in 'programming'\n",
    "print(sentence.index('fun', 7, 18))"
   ]
  },
  {
   "cell_type": "markdown",
   "metadata": {},
   "source": [
    "# Python String isalnum"
   ]
  },
  {
   "cell_type": "markdown",
   "metadata": {},
   "source": [
    "Python String isalnum()\n",
    "\n",
    "The isalnum() method returns True if all characters in the string are alphanumeric (either alphabets or numbers). If not, it returns False.\n",
    "\n",
    "The syntax of isalnum() is:\n",
    "\n",
    "string.isalnum()\n",
    "\n",
    "isalnum() Parameters\n",
    "\n",
    "The isalnum() doesn't take any parameters.\n",
    "\n",
    "Return Value from isalnum()\n",
    "\n",
    "The isalnum() returns:\n",
    "\n",
    "    True if all characters in the string are alphanumeric\n",
    "    False if at least one character is not alphanumeric\n"
   ]
  },
  {
   "cell_type": "code",
   "execution_count": null,
   "metadata": {},
   "outputs": [],
   "source": [
    "name = \"M234onica\"\n",
    "print(name.isalnum())\n",
    "\n",
    "# contains whitespace\n",
    "name = \"M3onica Gell22er \"\n",
    "print(name.isalnum())\n",
    "\n",
    "name = \"Mo3nicaGell22er\"\n",
    "print(name.isalnum())\n",
    "\n",
    "name = \"133\"\n",
    "print(name.isalnum())"
   ]
  },
  {
   "cell_type": "code",
   "execution_count": null,
   "metadata": {},
   "outputs": [],
   "source": [
    "name = \"M0n1caG3ll3r\"\n",
    "\n",
    "if name.isalnum() == True:\n",
    "   print(\"All characters of string (name) are alphanumeric.\")\n",
    "else:\n",
    "    print(\"All characters are not alphanumeric.\")"
   ]
  },
  {
   "cell_type": "markdown",
   "metadata": {},
   "source": [
    "# Python String isalpha"
   ]
  },
  {
   "cell_type": "markdown",
   "metadata": {},
   "source": [
    "The isalpha() method returns True if all characters in the string are alphabets. If not, it returns False.\n",
    "\n",
    "The syntax of isalpha() is:\n",
    "\n",
    "string.isalpha()\n",
    "\n",
    "isalpha() Parameters\n",
    "\n",
    "isalpha() doesn't take any parameters.\n",
    "\n",
    "Return Value from isalpha()\n",
    "\n",
    "The isalpha() returns:\n",
    "\n",
    "    True if all characters in the string are alphabets (can be both lowercase and uppercase).\n",
    "    False if at least one character is not alphabet.\n"
   ]
  },
  {
   "cell_type": "code",
   "execution_count": null,
   "metadata": {},
   "outputs": [],
   "source": [
    "name = \"Monica\"\n",
    "print(name.isalpha())\n",
    "\n",
    "# contains whitespace\n",
    "name = \"Monica Geller\"\n",
    "print(name.isalpha())\n",
    "\n",
    "# contains number\n",
    "name = \"Mo3nicaGell22er\"\n",
    "print(name.isalpha())"
   ]
  },
  {
   "cell_type": "code",
   "execution_count": null,
   "metadata": {},
   "outputs": [],
   "source": [
    "name = \"MonicaGeller\"\n",
    "\n",
    "if name.isalpha() == True:\n",
    "   print(\"All characters are alphabets\")\n",
    "else:\n",
    "    print(\"All characters are not alphabets.\")"
   ]
  },
  {
   "cell_type": "markdown",
   "metadata": {},
   "source": [
    "# Python String isdecimal"
   ]
  },
  {
   "cell_type": "code",
   "execution_count": null,
   "metadata": {},
   "outputs": [],
   "source": [
    "s = \"28212\"\n",
    "print(s.isdecimal())\n",
    "\n",
    "# contains alphabets\n",
    "s = \"32ladk3\"\n",
    "print(s.isdecimal())\n",
    "\n",
    "# contains alphabets and spaces\n",
    "s = \"Mo3 nicaG el l22er\"\n",
    "print(s.isdecimal())"
   ]
  },
  {
   "cell_type": "code",
   "execution_count": null,
   "metadata": {},
   "outputs": [],
   "source": [
    "s = '23455'\n",
    "print(s.isdecimal())\n",
    "\n",
    "#s = '²3455'\n",
    "s = '\\u00B23455'\n",
    "print(s.isdecimal())\n",
    "\n",
    "# s = '½'\n",
    "s = '\\u00BD'\n",
    "print(s.isdecimal())\n"
   ]
  },
  {
   "cell_type": "markdown",
   "metadata": {},
   "source": [
    "# Python String isdigit"
   ]
  },
  {
   "cell_type": "code",
   "execution_count": null,
   "metadata": {},
   "outputs": [],
   "source": [
    "str1 = '342'\n",
    "print(str1.isdigit())\n",
    "\n",
    "str2 = 'python'\n",
    "print(str2.isdigit())\n",
    "\n",
    "# Output: True\n",
    "#         False"
   ]
  },
  {
   "cell_type": "code",
   "execution_count": null,
   "metadata": {},
   "outputs": [],
   "source": [
    "s = \"28212\"\n",
    "print(s.isdigit())\n",
    "\n",
    "# contains alphabets and spaces\n",
    "s = \"Mo3 nicaG el l22er\"\n",
    "print(s.isdigit())"
   ]
  },
  {
   "cell_type": "code",
   "execution_count": null,
   "metadata": {},
   "outputs": [],
   "source": [
    "s = '23455'\n",
    "print(s.isdigit())\n",
    "\n",
    "#s = '²3455'\n",
    "# subscript is a digit\n",
    "s = '\\u00B23455'\n",
    "print(s.isdigit())\n",
    "\n",
    "# s = '½'\n",
    "# fraction is not a digit\n",
    "s = '\\u00BD'\n",
    "print(s.isdigit())"
   ]
  },
  {
   "cell_type": "markdown",
   "metadata": {},
   "source": [
    "# Python String isidentifier"
   ]
  },
  {
   "cell_type": "markdown",
   "metadata": {},
   "source": [
    "https://www.programiz.com/python-programming/methods/string/isidentifier"
   ]
  },
  {
   "cell_type": "code",
   "execution_count": null,
   "metadata": {},
   "outputs": [],
   "source": [
    "str = 'Python'\n",
    "print(str.isidentifier())\n",
    "\n",
    "str = 'Py thon'\n",
    "print(str.isidentifier())\n",
    "\n",
    "str = '22Python'\n",
    "print(str.isidentifier())\n",
    "\n",
    "str = ''\n",
    "print(str.isidentifier())"
   ]
  },
  {
   "cell_type": "code",
   "execution_count": null,
   "metadata": {},
   "outputs": [],
   "source": [
    "str = 'root33'\n",
    "if str.isidentifier() == True:\n",
    "  print(str, 'is a valid identifier.')\n",
    "else:\n",
    "  print(str, 'is not a valid identifier.')\n",
    "  \n",
    "str = '33root'\n",
    "if str.isidentifier() == True:\n",
    "  print(str, 'is a valid identifier.')\n",
    "else:\n",
    "  print(str, 'is not a valid identifier.')\n",
    "  \n",
    "str = 'root 33'\n",
    "if str.isidentifier() == True:\n",
    "  print(str, 'is a valid identifier.')\n",
    "else:\n",
    "  print(str, 'is not a valid identifier.')"
   ]
  },
  {
   "cell_type": "markdown",
   "metadata": {},
   "source": [
    "# Return Value from islower()"
   ]
  },
  {
   "cell_type": "code",
   "execution_count": null,
   "metadata": {},
   "outputs": [],
   "source": [
    "s = 'this is good'\n",
    "print(s.islower())\n",
    "\n",
    "s = 'th!s is a1so g00d'\n",
    "print(s.islower())\n",
    "\n",
    "s = 'this is Not good'\n",
    "print(s.islower())"
   ]
  },
  {
   "cell_type": "code",
   "execution_count": null,
   "metadata": {},
   "outputs": [],
   "source": [
    "s = 'this is good'\n",
    "if s.islower() == True:\n",
    "  print('Does not contain uppercase letter.')\n",
    "else:\n",
    "  print('Contains uppercase letter.')\n",
    "  \n",
    "s = 'this is Good'\n",
    "if s.islower() == True:\n",
    "  print('Does not contain uppercase letter.')\n",
    "else:\n",
    "  print('Contains uppercase letter.')"
   ]
  },
  {
   "cell_type": "markdown",
   "metadata": {},
   "source": [
    "Python String isnumeric()\n",
    "\n",
    "The isnumeric() method returns True if all characters in a string are numeric characters. If not, it returns False.\n",
    "\n",
    "A numeric character has following properties:\n",
    "\n",
    "    Numeric_Type=Decimal\n",
    "    Numeric_Type=Digit\n",
    "    Numeric_Type=Numeric\n",
    "\n",
    "In Python, decimal characters (like: 0, 1, 2..), digits (like: subscript, superscript), and characters having Unicode numeric value property (like: fraction, roman numerals, currency numerators) are all considered numeric characters.\n",
    "\n",
    "You can write the digit and numeric characters using unicode in the program. For example:"
   ]
  },
  {
   "cell_type": "code",
   "execution_count": null,
   "metadata": {},
   "outputs": [],
   "source": [
    "s = '1242323'\n",
    "print(s.isnumeric())\n",
    "\n",
    "#s = '²3455'\n",
    "s = '\\u00B23455'\n",
    "print(s.isnumeric())\n",
    "\n",
    "# s = '½'\n",
    "s = '\\u00BD'\n",
    "print(s.isnumeric())\n",
    "\n",
    "s = '1242323'\n",
    "s='python12'\n",
    "print(s.isnumeric())"
   ]
  },
  {
   "cell_type": "code",
   "execution_count": null,
   "metadata": {},
   "outputs": [],
   "source": [
    "#s = '²3455'\n",
    "s = '\\u00B23455'\n",
    "\n",
    "if s.isnumeric() == True:\n",
    "  print('All characters are numeric.')\n",
    "else:\n",
    "  print('All characters are not numeric.')"
   ]
  },
  {
   "cell_type": "markdown",
   "metadata": {},
   "source": [
    "Python String isprintable()\n",
    "\n",
    "The isprintable() methods returns True if all characters in the string are printable or the string is empty. If not, it returns False.\n",
    "\n",
    "Characters that occupy printing space on the screen are known as printable characters. For example:\n",
    "\n",
    "    letters and symbols\n",
    "    digits\n",
    "    punctuation\n",
    "    whitespace\n",
    "\n",
    "The syntax of isprintable() is:\n",
    "\n",
    "Return Value from isprintable()\n",
    "\n",
    "The isprintable() method returns:\n",
    "\n",
    "    True if the string is empty or all characters in the string are printable\n",
    "    False if the string contains at least one non-printable character\n"
   ]
  },
  {
   "cell_type": "code",
   "execution_count": null,
   "metadata": {},
   "outputs": [],
   "source": [
    "s = 'Space is a printable'\n",
    "print(s)\n",
    "print(s.isprintable())\n",
    "\n",
    "s = '\\nNew Line is printable'\n",
    "print(s)\n",
    "print(s.isprintable())\n",
    "\n",
    "s = ''\n",
    "print('\\nEmpty string printable?', s.isprintable())"
   ]
  },
  {
   "cell_type": "code",
   "execution_count": null,
   "metadata": {},
   "outputs": [],
   "source": [
    "# written using ASCII\n",
    "# chr(27) is escape character\n",
    "# char(97) is letter 'a'\n",
    "s = chr(27) + chr(97)\n",
    "\n",
    "if s.isprintable() == True:\n",
    "  print('Printable')\n",
    "else:\n",
    "  print('Not Printable')\n",
    "  \n",
    "s = '2+2 = 4'\n",
    "\n",
    "if s.isprintable() == True:\n",
    "  print('Printable')\n",
    "else:\n",
    "  print('Not Printable')"
   ]
  },
  {
   "cell_type": "markdown",
   "metadata": {},
   "source": [
    "ython String isspace()\n",
    "\n",
    "The isspace() method returns True if there are only whitespace characters in the string. If not, it return False.\n",
    "\n",
    "Characters that are used for spacing are called whitespace characters. For example: tabs, spaces, newline, etc.\n",
    "\n",
    "The syntax of isspace() is:\n",
    "\n",
    "string.isspace()\n",
    "\n",
    "isspace() Parameters\n",
    "\n",
    "isspace() method doesn't take any parameters.\n",
    "Return Value from isspace()\n",
    "\n",
    "isspace() method returns:\n",
    "\n",
    "    True if all characters in the string are whitespace characters\n",
    "    False if the string is empty or contains at least one non-printable character\n"
   ]
  },
  {
   "cell_type": "code",
   "execution_count": null,
   "metadata": {},
   "outputs": [],
   "source": [
    "s = '   \\t'\n",
    "print(s.isspace())\n",
    "\n",
    "s = ' a '\n",
    "print(s.isspace())\n",
    "\n",
    "s = ''\n",
    "print(s.isspace())"
   ]
  },
  {
   "cell_type": "code",
   "execution_count": null,
   "metadata": {},
   "outputs": [],
   "source": [
    "s = '\\t  \\n'\n",
    "if s.isspace() == True:\n",
    "  print('All whitespace characters')\n",
    "else:\n",
    "  print('Contains non-whitespace characters')\n",
    "  \n",
    "s = '2+2 = 4'\n",
    "\n",
    "if s.isspace() == True:\n",
    "  print('All whitespace characters')\n",
    "else:\n",
    "  print('Contains non-whitespace characters.')"
   ]
  },
  {
   "cell_type": "markdown",
   "metadata": {},
   "source": [
    "# Python String istitle"
   ]
  },
  {
   "cell_type": "markdown",
   "metadata": {},
   "source": [
    "Python String istitle()\n",
    "\n",
    "The istitle() returns True if the string is a titlecased string. If not, it returns False.\n",
    "\n",
    "The syntax of istitle() method is:\n",
    "\n",
    "string.istitle()\n",
    "\n",
    "istitle() Parameters\n",
    "\n",
    "The istitle() method doesn't take any parameters.\n",
    "Return Value from istitle()\n",
    "\n",
    "The istitle() method returns:\n",
    "\n",
    "    True if the string is a titlecased string\n",
    "    False if the string is not a titlecased string or an empty string\n",
    "\n"
   ]
  },
  {
   "cell_type": "code",
   "execution_count": null,
   "metadata": {},
   "outputs": [],
   "source": [
    "s = 'Python Is Good.'\n",
    "print(s.istitle())\n",
    "\n",
    "s = 'Python is good'\n",
    "print(s.istitle())\n",
    "\n",
    "s = 'This Is @ Symbol.'\n",
    "print(s.istitle())\n",
    "\n",
    "s = '99 Is A Number'\n",
    "print(s.istitle())\n",
    "\n",
    "s = 'PYTHON'\n",
    "print(s.istitle())"
   ]
  },
  {
   "cell_type": "code",
   "execution_count": null,
   "metadata": {},
   "outputs": [],
   "source": [
    "s = 'I Love Python.'\n",
    "if s.istitle() == True:\n",
    "  print('Titlecased String')\n",
    "else:\n",
    "  print('Not a Titlecased String')\n",
    "  \n",
    "s = 'PYthon'\n",
    "if s.istitle() == True:\n",
    "  print('Titlecased String')\n",
    "else:\n",
    "  print('Not a Titlecased String')"
   ]
  },
  {
   "cell_type": "markdown",
   "metadata": {},
   "source": [
    "# Python String isupper"
   ]
  },
  {
   "cell_type": "code",
   "execution_count": null,
   "metadata": {},
   "outputs": [],
   "source": [
    "# example string\n",
    "string = \"THIS IS GOOD!\"\n",
    "print(string.isupper());\n",
    "\n",
    "# numbers in place of alphabets\n",
    "string = \"THIS IS ALSO G00D!\"\n",
    "print(string.isupper());\n",
    "\n",
    "# lowercase string\n",
    "string = \"THIS IS not GOOD!\"\n",
    "print(string.isupper());"
   ]
  },
  {
   "cell_type": "code",
   "execution_count": null,
   "metadata": {},
   "outputs": [],
   "source": [
    "string = 'THIS IS GOOD'\n",
    "if string.isupper() == True:\n",
    "  print('Does not contain lowercase letter.')\n",
    "else:\n",
    "  print('Contains lowercase letter.')\n",
    "  \n",
    "string = 'THIS IS gOOD'\n",
    "if string.isupper() == True:\n",
    "  print('Does not contain lowercase letter.')\n",
    "else:\n",
    "  print('Contains lowercase letter.')"
   ]
  },
  {
   "cell_type": "markdown",
   "metadata": {},
   "source": [
    "# Python String join"
   ]
  },
  {
   "cell_type": "markdown",
   "metadata": {},
   "source": [
    "text = ['Python', 'is', 'a', 'fun', 'programming', 'language']\n",
    "\n",
    "# join elements of text with space\n",
    "print(' '.join(text))\n",
    "\n",
    "# Output: Python is a fun programming language"
   ]
  },
  {
   "cell_type": "markdown",
   "metadata": {},
   "source": [
    "Syntax of String join()\n",
    "\n",
    "The syntax of the join() method is:\n",
    "\n",
    "string.join(iterable)\n",
    "\n",
    "joint() Parameters\n",
    "\n",
    "The join() method takes an iterable (objects capable of returning its members one at a time) as its parameter.\n",
    "\n",
    "Some of the example of iterables are:\n",
    "\n",
    "    Native data types - List, Tuple, String, Dictionary and Set.\n",
    "    File objects and objects you define with an __iter__() or __getitem()__ method.\n",
    "\n",
    "Note: The join() method provides a flexible way to create strings from iterable objects. It joins each element of an iterable (such as list, string, and tuple) by a string separator (the string on which the join() method is called) and returns the concatenated string.\n",
    "Return Value from join() method\n",
    "\n",
    "The join() method returns a string created by joining the elements of an iterable by string separator.\n",
    "\n"
   ]
  },
  {
   "cell_type": "code",
   "execution_count": null,
   "metadata": {},
   "outputs": [],
   "source": [
    "# .join() with lists\n",
    "numList = ['1', '2', '3', '4']\n",
    "separator = ', '\n",
    "print(separator.join(numList))\n",
    "\n",
    "# .join() with tuples\n",
    "numTuple = ('1', '2', '3', '4')\n",
    "print(separator.join(numTuple))\n",
    "\n",
    "s1 = 'abc'\n",
    "s2 = '123'\n",
    "\n",
    "# each element of s2 is separated by s1\n",
    "# '1'+ 'abc'+ '2'+ 'abc'+ '3'\n",
    "print('s1.join(s2):', s1.join(s2))\n",
    "\n",
    "# each element of s1 is separated by s2\n",
    "# 'a'+ '123'+ 'b'+ '123'+ 'b'\n",
    "print('s2.join(s1):', s2.join(s1))"
   ]
  },
  {
   "cell_type": "code",
   "execution_count": null,
   "metadata": {},
   "outputs": [],
   "source": [
    "# .join() with sets\n",
    "test = {'2', '1', '3'}\n",
    "s = ', '\n",
    "print(s.join(test))\n",
    "\n",
    "test = {'Python', 'Java', 'Ruby'}\n",
    "s = '->->'\n",
    "print(s.join(test))"
   ]
  },
  {
   "cell_type": "code",
   "execution_count": null,
   "metadata": {},
   "outputs": [],
   "source": [
    "# .join() with dictionaries\n",
    "test = {'mat': 1, 'that': 2}\n",
    "s = '->'\n",
    "\n",
    "# joins the keys only\n",
    "print(s.join(test))\n",
    "\n",
    "test = {1: 'mat', 2: 'that'}\n",
    "s = ', '\n",
    "\n",
    "# this gives error since key isn't string\n",
    "print(s.join(test))"
   ]
  },
  {
   "cell_type": "markdown",
   "metadata": {},
   "source": [
    "# Python String ljust"
   ]
  },
  {
   "cell_type": "markdown",
   "metadata": {},
   "source": [
    "Python String ljust()\n",
    "\n",
    "The string ljust() method returns a left-justified string of a given minimum width.\n",
    "\n",
    "The syntax of ljust() method is:\n",
    "\n",
    "string.ljust(width[, fillchar])\n",
    "\n",
    "Here, fillchar is an optional parameter.\n",
    "String ljust() Parameters\n",
    "\n",
    "ljust() method takes two parameters:\n",
    "\n",
    "    width - width of the given string. If width is less than or equal to the length of the string, the original string is returned.\n",
    "    fillchar (Optional) - character to fill the remaining space of the width\n",
    "\n",
    "Return value from String ljust()\n",
    "\n",
    "The ljust() method returns the left-justified string within the given minimum width.\n",
    "\n",
    "If fillchar is defined, it also fills the remaining space with the defined character.\n",
    "Example 1: Left justify string of minimum width"
   ]
  },
  {
   "cell_type": "code",
   "execution_count": null,
   "metadata": {},
   "outputs": [],
   "source": [
    "# example string\n",
    "string = 'cat'\n",
    "width = 5\n",
    "\n",
    "# print left justified string\n",
    "print(string.ljust(width))"
   ]
  },
  {
   "cell_type": "code",
   "execution_count": null,
   "metadata": {},
   "outputs": [],
   "source": [
    "# example string\n",
    "string = 'cat'\n",
    "width = 5\n",
    "fillchar = '*'\n",
    "\n",
    "# print left justified string\n",
    "print(string.ljust(width, fillchar))"
   ]
  },
  {
   "cell_type": "markdown",
   "metadata": {},
   "source": [
    "# Python String rjust"
   ]
  },
  {
   "cell_type": "markdown",
   "metadata": {},
   "source": [
    "Python String rjust()\n",
    "\n",
    "The string rjust() method returns a right-justified string of a given minimum width.\n",
    "\n",
    "The syntax of rjust() method is:\n",
    "\n",
    "string.rjust(width[, fillchar])\n",
    "\n",
    "Here, fillchar is an optional parameter.\n",
    "String rjust() Parameters\n",
    "\n",
    "The rjust() method takes two parameters:\n",
    "\n",
    "    width - width of the given string. If width is less than or equal to the length of the string, original string is returned.\n",
    "    fillchar (Optional) - character to fill the remaining space of the width\n",
    "\n",
    "Return value from String rjust()\n",
    "\n",
    "The rjust() method returns the right-justified string within the given minimum width.\n",
    "\n",
    "If fillchar is defined, it fills the remaining space with the defined character.\n"
   ]
  },
  {
   "cell_type": "code",
   "execution_count": null,
   "metadata": {},
   "outputs": [],
   "source": [
    "# example string\n",
    "string = 'cat'\n",
    "width = 5\n",
    "\n",
    "# print right justified string\n",
    "print(string.rjust(width))"
   ]
  },
  {
   "cell_type": "code",
   "execution_count": null,
   "metadata": {},
   "outputs": [],
   "source": [
    "# example string\n",
    "string = 'cat'\n",
    "width = 5\n",
    "fillchar = '*'\n",
    "\n",
    "# print right justified string\n",
    "print(string.rjust(width, fillchar))"
   ]
  },
  {
   "cell_type": "markdown",
   "metadata": {},
   "source": [
    "# Python String lower"
   ]
  },
  {
   "cell_type": "code",
   "execution_count": 1,
   "metadata": {},
   "outputs": [
    {
     "name": "stdout",
     "output_type": "stream",
     "text": [
      "python is fun\n"
     ]
    }
   ],
   "source": [
    "message = 'PYTHON IS FUN'\n",
    "\n",
    "# convert message to lowercase\n",
    "print(message.lower())\n",
    "\n",
    "# Output: python is fun"
   ]
  },
  {
   "cell_type": "code",
   "execution_count": 2,
   "metadata": {},
   "outputs": [
    {
     "name": "stdout",
     "output_type": "stream",
     "text": [
      "this should be lowercase!\n",
      "th!s sh0uld b3 l0w3rcas3!\n"
     ]
    }
   ],
   "source": [
    "# example string\n",
    "string = \"THIS SHOULD BE LOWERCASE!\"\n",
    "print(string.lower())\n",
    "\n",
    "# string with numbers\n",
    "# all alphabets should be lowercase\n",
    "string = \"Th!s Sh0uLd B3 L0w3rCas3!\"\n",
    "print(string.lower())"
   ]
  },
  {
   "cell_type": "code",
   "execution_count": 3,
   "metadata": {},
   "outputs": [
    {
     "name": "stdout",
     "output_type": "stream",
     "text": [
      "The strings are same.\n"
     ]
    }
   ],
   "source": [
    "# first string\n",
    "firstString = \"PYTHON IS AWESOME!\"\n",
    "\n",
    "# second string\n",
    "secondString = \"PyThOn Is AwEsOmE!\"\n",
    "\n",
    "if(firstString.lower() == secondString.lower()):\n",
    "    print(\"The strings are same.\")\n",
    "else:\n",
    "    print(\"The strings are not same.\")"
   ]
  },
  {
   "cell_type": "markdown",
   "metadata": {},
   "source": [
    "# Python String swapcase"
   ]
  },
  {
   "cell_type": "markdown",
   "metadata": {},
   "source": [
    "Python String swapcase()\n",
    "\n",
    "The string swapcase() method converts all uppercase characters to lowercase and all lowercase characters to uppercase characters of the given string, and returns it.\n",
    "\n",
    "The format of swapcase() method is:\n",
    "\n",
    "string.swapcase()"
   ]
  },
  {
   "cell_type": "code",
   "execution_count": null,
   "metadata": {},
   "outputs": [],
   "source": [
    "# example string\n",
    "string = \"THIS SHOULD ALL BE LOWERCASE.\"\n",
    "print(string.swapcase())\n",
    "\n",
    "string = \"this should all be uppercase.\"\n",
    "print(string.swapcase())\n",
    "\n",
    "string = \"ThIs ShOuLd Be MiXeD cAsEd.\"\n",
    "print(string.swapcase())"
   ]
  },
  {
   "cell_type": "markdown",
   "metadata": {},
   "source": [
    "# Python String lstrip"
   ]
  },
  {
   "cell_type": "code",
   "execution_count": null,
   "metadata": {},
   "outputs": [],
   "source": [
    "random_string = '   this is good '\n",
    "\n",
    "# Leading whitepsace are removed\n",
    "print(random_string.lstrip())\n",
    "\n",
    "# Argument doesn't contain space\n",
    "# No characters are removed.\n",
    "print(random_string.lstrip('sti'))\n",
    "\n",
    "print(random_string.lstrip('s ti'))\n",
    "\n",
    "website = 'https://www.programiz.com/'\n",
    "print(website.lstrip('htps:/.'))"
   ]
  },
  {
   "cell_type": "markdown",
   "metadata": {},
   "source": [
    "# Python String rstrip"
   ]
  },
  {
   "cell_type": "code",
   "execution_count": null,
   "metadata": {},
   "outputs": [],
   "source": [
    "title = 'Python Programming   '\n",
    "\n",
    "# remove trailing whitespace from title\n",
    "result = title.rstrip()\n",
    "print(result)\n",
    "\n",
    "# Output: Python Programming "
   ]
  },
  {
   "cell_type": "markdown",
   "metadata": {},
   "source": [
    "Syntax of String rstrip()\n",
    "\n",
    "The syntax of rstrip() is:\n",
    "\n",
    "string.rstrip([chars])"
   ]
  },
  {
   "cell_type": "code",
   "execution_count": null,
   "metadata": {},
   "outputs": [],
   "source": [
    "random_string = 'this is good    '\n",
    "\n",
    "# Trailing whitespace are removed\n",
    "print(random_string.rstrip())\n",
    "\n",
    "# 'si oo' are not trailing characters so nothing is removed\n",
    "print(random_string.rstrip('si oo'))\n",
    "\n",
    "# in 'sid oo', 'd oo' are the trailing characters, 'ood' is removed from the string\n",
    "print(random_string.rstrip('sid oo')) website = 'www.programiz.com/' \n",
    "\n",
    "print(website.rstrip('m/.'))\n",
    "\n"
   ]
  },
  {
   "cell_type": "markdown",
   "metadata": {},
   "source": [
    "# Python String strip"
   ]
  },
  {
   "cell_type": "markdown",
   "metadata": {},
   "source": [
    "message = '     Learn Python  '\n",
    "\n",
    "# remove leading and trailing whitespaces\n",
    "print('Message:', message.strip())\n",
    "\n",
    "# Output: Message: Learn Python"
   ]
  },
  {
   "cell_type": "code",
   "execution_count": null,
   "metadata": {},
   "outputs": [],
   "source": [
    "string = '  xoxo love xoxo   '\n",
    "\n",
    "# Leading and trailing whitespaces are removed\n",
    "print(string.strip())\n",
    "\n",
    "# All <whitespace>,x,o,e characters in the left\n",
    "# and right of string are removed\n",
    "print(string.strip(' xoe'))\n",
    "\n",
    "# Argument doesn't contain space\n",
    "# No characters are removed.\n",
    "print(string.strip('stx'))\n",
    "\n",
    "string = 'android is awesome'\n",
    "print(string.strip('an'))"
   ]
  },
  {
   "cell_type": "markdown",
   "metadata": {},
   "source": [
    "Here, we can see that the first expression string.strip() without any arguments removed the whitespaces from the left and right of string.\n",
    "\n",
    "    string.strip(' xoe') - Removes all whitespace, x, o, and e that lead or trailed the string.\n",
    "    string.strip('stx') - Since string has whitespace at the beginning and end, this expression does not change the string. x is not removed since it is at the middle of the string (whitespaces lead and trail the string)\n",
    "    string.strip('an') - Removes an leading the string.\n"
   ]
  },
  {
   "cell_type": "markdown",
   "metadata": {},
   "source": [
    "# Python String partition"
   ]
  },
  {
   "cell_type": "markdown",
   "metadata": {},
   "source": [
    "The partition() method splits the string at the first occurrence of the argument string and returns a tuple containing the part the before separator, argument string and the part after the separator.\n",
    "\n",
    "The syntax of partition() is:"
   ]
  },
  {
   "cell_type": "markdown",
   "metadata": {},
   "source": [
    "partition() Parameters()\n",
    "\n",
    "The partition() method takes a string parameter separator that separates the string at the first occurrence of it.\n",
    "Return Value from partition()\n",
    "\n",
    "The partition method returns a 3-tuple containing:\n",
    "\n",
    "    the part before the separator, separator parameter, and the part after the separator if the separator parameter is found in the string\n",
    "    the string itself and two empty strings if the separator parameter is not found\n"
   ]
  },
  {
   "cell_type": "code",
   "execution_count": 5,
   "metadata": {},
   "outputs": [
    {
     "name": "stdout",
     "output_type": "stream",
     "text": [
      "('Python ', 'is ', 'fun')\n",
      "('Python is fun', '', '')\n",
      "('Python ', 'is', \" fun, isn't it\")\n"
     ]
    }
   ],
   "source": [
    "string = \"Python is fun\"\n",
    "\n",
    "# 'is' separator is found\n",
    "print(string.partition('is '))\n",
    "\n",
    "# 'not' separator is not found\n",
    "print(string.partition('not '))\n",
    "\n",
    "string = \"Python is fun, isn't it\"\n",
    "\n",
    "# splits at first occurence of 'is'\n",
    "print(string.partition('is'))"
   ]
  },
  {
   "cell_type": "markdown",
   "metadata": {},
   "source": [
    "# Python String maketrans"
   ]
  },
  {
   "cell_type": "markdown",
   "metadata": {},
   "source": [
    "The string maketrans() method returns a mapping table for translation usable for translate() method.\n",
    "\n",
    "In simple terms, maketrans() method is a static method that creates a one to one mapping of a character to its translation/replacement.\n",
    "\n",
    "It creates a Unicode representation of each character for translation.\n",
    "\n",
    "This translation mapping is then used for replacing a character to its mapped character when used in translate() method."
   ]
  },
  {
   "cell_type": "markdown",
   "metadata": {},
   "source": [
    "The syntax of maketrans() method is:\n",
    "\n",
    "string.maketrans(x[, y[, z]])\n",
    "\n",
    "Here, y and z are optional arguments.\n",
    "String maketrans() Parameters\n",
    "\n",
    "maketrans() method takes 3 parameters:\n",
    "\n",
    "    x - If only one argument is supplied, it must be a dictionary.\n",
    "    The dictionary should contain a 1-to-1 mapping from a single character string to its translation OR a Unicode number (97 for 'a') to its translation.\n",
    "    y - If two arguments are passed, it must be two strings with equal length.\n",
    "    Each character in the first string is a replacement to its corresponding index in the second string.\n",
    "    z - If three arguments are passed, each character in the third argument is mapped to None.\n"
   ]
  },
  {
   "cell_type": "code",
   "execution_count": null,
   "metadata": {},
   "outputs": [],
   "source": [
    "# example dictionary\n",
    "dict = {\"a\": \"123\", \"b\": \"456\", \"c\": \"789\"}\n",
    "string = \"abc\"\n",
    "print(string.maketrans(dict))\n",
    "\n",
    "# example dictionary\n",
    "dict = {97: \"123\", 98: \"456\", 99: \"789\"}\n",
    "string = \"abc\"\n",
    "print(string.maketrans(dict))"
   ]
  },
  {
   "cell_type": "code",
   "execution_count": null,
   "metadata": {},
   "outputs": [],
   "source": [
    "# first string\n",
    "firstString = \"abc\"\n",
    "secondString = \"def\"\n",
    "string = \"abc\"\n",
    "print(string.maketrans(firstString, secondString))\n",
    "\n",
    "# example dictionary\n",
    "firstString = \"abc\"\n",
    "secondString = \"defghi\"\n",
    "string = \"abc\"\n",
    "print(string.maketrans(firstString, secondString))"
   ]
  },
  {
   "cell_type": "code",
   "execution_count": null,
   "metadata": {},
   "outputs": [],
   "source": [
    "# first string\n",
    "firstString = \"abc\"\n",
    "secondString = \"def\"\n",
    "thirdString = \"abd\"\n",
    "string = \"abc\"\n",
    "print(string.maketrans(firstString, secondString, thirdString))"
   ]
  },
  {
   "cell_type": "markdown",
   "metadata": {},
   "source": [
    "# Python String rpartition"
   ]
  },
  {
   "cell_type": "markdown",
   "metadata": {},
   "source": [
    "The rpartition() splits the string at the last occurrence of the argument string and returns a tuple containing the part the before separator, argument string and the part after the separator.\n",
    "\n",
    "The syntax of rpartition() is:\n",
    "\n",
    "string.rpartition(separator)\n",
    "\n",
    "rpartition() Parameters()\n",
    "\n",
    "rpartition() method takes a string parameter separator that separates the string at the last occurrence of it.\n",
    "Return Value from rpartition()\n",
    "\n",
    "rpartition() method returns a 3-tuple containing:\n",
    "\n",
    "    the part before the separator, separator parameter, and the part after the separator if the separator parameter is found in the string\n",
    "    two empty strings, followed by the string itself if the separator parameter is not found\n"
   ]
  },
  {
   "cell_type": "code",
   "execution_count": null,
   "metadata": {},
   "outputs": [],
   "source": [
    "string = \"Python is fun\"\n",
    "\n",
    "# 'is' separator is found\n",
    "print(string.rpartition('is '))\n",
    "\n",
    "# 'not' separator is not found\n",
    "print(string.rpartition('not '))\n",
    "\n",
    "string = \"Python is fun, isn't it\"\n",
    "\n",
    "# splits at last occurence of 'is'\n",
    "print(string.rpartition('is'))"
   ]
  },
  {
   "cell_type": "markdown",
   "metadata": {},
   "source": [
    "# Python String translate"
   ]
  },
  {
   "cell_type": "markdown",
   "metadata": {},
   "source": [
    "# first string\n",
    "firstString = \"abc\"\n",
    "secondString = \"ghi\"\n",
    "thirdString = \"ab\"\n",
    "\n",
    "string = \"abcdef\"\n",
    "print(\"Original string:\", string)\n",
    "\n",
    "translation = string.maketrans(firstString, secondString, thirdString)\n",
    "\n",
    "# translate string\n",
    "print(\"Translated string:\", string.translate(translation))"
   ]
  },
  {
   "cell_type": "code",
   "execution_count": null,
   "metadata": {},
   "outputs": [],
   "source": [
    "# translation table - a dictionary\n",
    "translation = {97: None, 98: None, 99: 105}\n",
    "\n",
    "string = \"abcdef\"\n",
    "print(\"Original string:\", string)\n",
    "\n",
    "# translate string\n",
    "print(\"Translated string:\", string.translate(translation))"
   ]
  },
  {
   "cell_type": "markdown",
   "metadata": {},
   "source": [
    "# Python String replace"
   ]
  },
  {
   "cell_type": "code",
   "execution_count": 6,
   "metadata": {},
   "outputs": [
    {
     "name": "stdout",
     "output_type": "stream",
     "text": [
      "cat call\n"
     ]
    }
   ],
   "source": [
    "text = 'bat ball'\n",
    "\n",
    "# replace b with c\n",
    "replaced_text = text.replace('b', 'c')\n",
    "print(replaced_text)\n",
    "\n",
    "# Output: cat call"
   ]
  },
  {
   "cell_type": "code",
   "execution_count": 7,
   "metadata": {},
   "outputs": [
    {
     "name": "stdout",
     "output_type": "stream",
     "text": [
      "hurt, hurt heart\n",
      "Let it be, don't let it be, don't let it be, let it be\n"
     ]
    }
   ],
   "source": [
    "song = 'cold, cold heart'\n",
    "\n",
    "# replacing 'cold' with 'hurt'\n",
    "print(song.replace('cold', 'hurt'))\n",
    "\n",
    "song = 'Let it be, let it be, let it be, let it be'\n",
    "\n",
    "# replacing only two occurences of 'let'\n",
    "print(song.replace('let', \"don't let\", 2))"
   ]
  },
  {
   "cell_type": "code",
   "execution_count": 8,
   "metadata": {},
   "outputs": [
    {
     "name": "stdout",
     "output_type": "stream",
     "text": [
      "Original string: cold, cold heart\n",
      "Replaced string: celd, celd heart\n",
      "let it be, let it be, let it be\n"
     ]
    }
   ],
   "source": [
    "song = 'cold, cold heart'\n",
    "replaced_song = song.replace('o', 'e')\n",
    "\n",
    "# The original string is unchanged\n",
    "print('Original string:', song)\n",
    "\n",
    "print('Replaced string:', replaced_song)\n",
    "\n",
    "song = 'let it be, let it be, let it be'\n",
    "\n",
    "# maximum of 0 substring is replaced\n",
    "# returns copy of the original string\n",
    "print(song.replace('let', 'so', 0))"
   ]
  },
  {
   "cell_type": "markdown",
   "metadata": {},
   "source": [
    "# Python String rfind"
   ]
  },
  {
   "cell_type": "code",
   "execution_count": null,
   "metadata": {},
   "outputs": [],
   "source": [
    "quote = 'Let it be, let it be, let it be'\n",
    "\n",
    "result = quote.rfind('let it')\n",
    "print(\"Substring 'let it':\", result)\n",
    "\n",
    "result = quote.rfind('small')\n",
    "print(\"Substring 'small ':\", result)\n",
    "\n",
    "result = quote.rfind('be,')\n",
    "if  (result != -1):\n",
    "  print(\"Highest index where 'be,' occurs:\", result)\n",
    "else:\n",
    "  print(\"Doesn't contain substring\")"
   ]
  },
  {
   "cell_type": "code",
   "execution_count": null,
   "metadata": {},
   "outputs": [],
   "source": [
    "quote = 'Do small things with great love'\n",
    "\n",
    "# Substring is searched in 'hings with great love'\n",
    "print(quote.rfind('things', 10))\n",
    "\n",
    "# Substring is searched in ' small things with great love' \n",
    "print(quote.rfind('t', 2))\n",
    "\n",
    "# Substring is searched in 'hings with great lov'\n",
    "print(quote.rfind('o small ', 10, -1))\n",
    "\n",
    "# Substring is searched in 'll things with'\n",
    "print(quote.rfind('th', 6, 20))"
   ]
  },
  {
   "cell_type": "markdown",
   "metadata": {},
   "source": [
    "# Python String rindex"
   ]
  },
  {
   "cell_type": "code",
   "execution_count": null,
   "metadata": {},
   "outputs": [],
   "source": [
    "quote = 'Let it be, let it be, let it be'\n",
    "\n",
    "result = quote.rindex('let it')\n",
    "print(\"Substring 'let it':\", result)\n",
    "  \n",
    "result = quote.rindex('small')\n",
    "print(\"Substring 'small ':\", result)"
   ]
  },
  {
   "cell_type": "code",
   "execution_count": null,
   "metadata": {},
   "outputs": [],
   "source": [
    "quote = 'Do small things with great love'\n",
    "\n",
    "# Substring is searched in ' small things with great love' \n",
    "print(quote.rindex('t', 2))\n",
    "\n",
    "# Substring is searched in 'll things with'\n",
    "print(quote.rindex('th', 6, 20))\n",
    "\n",
    "# Substring is searched in 'hings with great lov'\n",
    "print(quote.rindex('o small ', 10, -1))"
   ]
  },
  {
   "cell_type": "markdown",
   "metadata": {},
   "source": [
    "# Python String split"
   ]
  },
  {
   "cell_type": "code",
   "execution_count": 9,
   "metadata": {},
   "outputs": [
    {
     "name": "stdout",
     "output_type": "stream",
     "text": [
      "['Python', 'is', 'a', 'fun', 'programming', 'language']\n"
     ]
    }
   ],
   "source": [
    "text = 'Python is a fun programming language'\n",
    "\n",
    "# split the text from space\n",
    "print(text.split(' '))\n",
    "\n",
    "# Output: ['Python', 'is', 'a', 'fun', 'programming', 'language']"
   ]
  },
  {
   "cell_type": "code",
   "execution_count": 10,
   "metadata": {},
   "outputs": [
    {
     "name": "stdout",
     "output_type": "stream",
     "text": [
      "['Love', 'thy', 'neighbor']\n",
      "['Milk', 'Chicken', 'Bread']\n",
      "['Milk, Chicken, Bread']\n"
     ]
    }
   ],
   "source": [
    "text= 'Love thy neighbor'\n",
    "\n",
    "# splits at space\n",
    "print(text.split())\n",
    "\n",
    "grocery = 'Milk, Chicken, Bread'\n",
    "\n",
    "# splits at ','\n",
    "print(grocery.split(', '))\n",
    "\n",
    "# Splits at ':'\n",
    "print(grocery.split(':'))"
   ]
  },
  {
   "cell_type": "code",
   "execution_count": 11,
   "metadata": {},
   "outputs": [
    {
     "name": "stdout",
     "output_type": "stream",
     "text": [
      "['Milk', 'Chicken', 'Bread, Butter']\n",
      "['Milk', 'Chicken, Bread, Butter']\n",
      "['Milk', 'Chicken', 'Bread', 'Butter']\n",
      "['Milk, Chicken, Bread, Butter']\n"
     ]
    }
   ],
   "source": [
    "grocery = 'Milk, Chicken, Bread, Butter'\n",
    "\n",
    "# maxsplit: 2\n",
    "print(grocery.split(', ', 2))\n",
    "\n",
    "# maxsplit: 1\n",
    "print(grocery.split(', ', 1))\n",
    "\n",
    "# maxsplit: 5\n",
    "print(grocery.split(', ', 5))\n",
    "\n",
    "# maxsplit: 0\n",
    "print(grocery.split(', ', 0))"
   ]
  },
  {
   "cell_type": "markdown",
   "metadata": {},
   "source": [
    "# Python String rsplit"
   ]
  },
  {
   "cell_type": "markdown",
   "metadata": {},
   "source": [
    "Python String rsplit()\n",
    "\n",
    "The rsplit() method splits string from the right at the specified separator and returns a list of strings.\n",
    "\n",
    "The syntax of rsplit() is:\n",
    "\n",
    "str.rsplit([separator [, maxsplit]])\n",
    "\n",
    "rsplit() Parameters\n",
    "\n",
    "rsplit() method takes maximum of 2 parameters:\n",
    "\n",
    "    separator (optional)- The is a delimiter. rsplit() method splits string starting from the right at the specified separator.\n",
    "    If the separator is not specified, any whitespace (space, newline etc.) string is a separator.\n",
    "    maxsplit (optional) - The maxsplit defines the maximum number of splits.\n",
    "    The default value of maxsplit is -1, meaning, no limit on the number of splits.\n",
    "\n",
    "Return Value from rsplit()\n",
    "\n",
    "rsplit() breaks the string at the separator starting from the right and returns a list of strings.\n"
   ]
  },
  {
   "cell_type": "code",
   "execution_count": null,
   "metadata": {},
   "outputs": [],
   "source": [
    "text= 'Love thy neighbor'\n",
    "\n",
    "# splits at space\n",
    "print(text.rsplit())\n",
    "\n",
    "grocery = 'Milk, Chicken, Bread'\n",
    "\n",
    "# splits at ','\n",
    "print(grocery.rsplit(', '))\n",
    "\n",
    "# Splitting at ':'\n",
    "print(grocery.rsplit(':'))"
   ]
  },
  {
   "cell_type": "code",
   "execution_count": null,
   "metadata": {},
   "outputs": [],
   "source": [
    "grocery = 'Milk, Chicken, Bread, Butter'\n",
    "\n",
    "# maxsplit: 2\n",
    "print(grocery.rsplit(', ', 2))\n",
    "\n",
    "# maxsplit: 1\n",
    "print(grocery.rsplit(', ', 1))\n",
    "\n",
    "# maxsplit: 5\n",
    "print(grocery.rsplit(', ', 5))\n",
    "\n",
    "# maxsplit: 0\n",
    "print(grocery.rsplit(', ', 0))"
   ]
  },
  {
   "cell_type": "markdown",
   "metadata": {},
   "source": [
    "# Python String splitlines"
   ]
  },
  {
   "cell_type": "markdown",
   "metadata": {},
   "source": [
    "Python String splitlines()\n",
    "\n",
    "The splitlines() method splits the string at line breaks and returns a list of lines in the string.\n",
    "\n",
    "The syntax of splitlines() is:\n",
    "\n",
    "str.splitlines([keepends])\n",
    "\n",
    "splitlines() Parameters\n",
    "\n",
    "splitlines() takes maximum of 1 parameter.\n",
    "\n",
    "keepends (optional) - If keepends is provided and True, line breaks are also included in items of the list.\n",
    "\n",
    "By default, the line breaks are not included.\n",
    "Return Value from splitlines()\n",
    "\n",
    "splitlines() returns a list of lines in the string.\n",
    "\n",
    "If there are not line break characters, it returns a list with a single item (a single line).\n",
    "\n",
    "splitlines() splits on the following line boundaries:\n",
    "Representation\n",
    "\t\t\t\tDescription\n",
    "\t\t\n",
    "\\n\n",
    "\t\t\t\tLine Feed\n",
    "\t\t\n",
    "\\r\n",
    "\t\t\t\tCarriage Return\n",
    "\t\t\n",
    "\\r\\n\n",
    "\t\t\t\tCarriage Return + Line Feed\n",
    "\t\t\n",
    "\\v or \\x0b\n",
    "\t\t\t\tLine Tabulation\n",
    "\t\t\n",
    "\\f or \\x0c\n",
    "\t\t\t\tForm Feed\n",
    "\t\t\n",
    "\\x1c\n",
    "\t\t\t\tFile Separator\n",
    "\t\t\n",
    "\\x1d\n",
    "\t\t\t\tGroup Separator\n",
    "\t\t\n",
    "\\x1e\n",
    "\t\t\t\tRecord Separator\n",
    "\t\t\n",
    "\\x85\n",
    "\t\t\t\tNext Line (C1 Control Code)\n",
    "\t\t\n",
    "\\u2028\n",
    "\t\t\t\tLine Separator\n",
    "\t\t\n",
    "\\u2029\n",
    "\t\t\t\tParagraph Separator"
   ]
  },
  {
   "cell_type": "code",
   "execution_count": null,
   "metadata": {},
   "outputs": [],
   "source": [
    "grocery = 'Milk\\nChicken\\r\\nBread\\rButter'\n",
    "\n",
    "print(grocery.splitlines())\n",
    "print(grocery.splitlines(True))\n",
    "\n",
    "grocery = 'Milk Chicken Bread Butter'\n",
    "print(grocery.splitlines())"
   ]
  },
  {
   "cell_type": "markdown",
   "metadata": {},
   "source": [
    "# Python String startswith"
   ]
  },
  {
   "cell_type": "code",
   "execution_count": 12,
   "metadata": {},
   "outputs": [
    {
     "name": "stdout",
     "output_type": "stream",
     "text": [
      "True\n"
     ]
    }
   ],
   "source": [
    "message = 'Python is fun'\n",
    "\n",
    "# check if the message starts with Python\n",
    "print(message.startswith('Python'))\n",
    "\n",
    "# Output: True"
   ]
  },
  {
   "cell_type": "code",
   "execution_count": null,
   "metadata": {},
   "outputs": [],
   "source": [
    "text = \"Python is easy to learn.\"\n",
    "\n",
    "result = text.startswith('is easy')\n",
    "# returns False\n",
    "print(result)\n",
    "\n",
    "result = text.startswith('Python is ')\n",
    "# returns True\n",
    "print(result)\n",
    "\n",
    "result = text.startswith('Python is easy to learn.')\n",
    "# returns True\n",
    "print(result)"
   ]
  },
  {
   "cell_type": "code",
   "execution_count": null,
   "metadata": {},
   "outputs": [],
   "source": [
    "text = \"Python programming is easy.\"\n",
    "\n",
    "# start parameter: 7\n",
    "# 'programming is easy.' string is searched\n",
    "result = text.startswith('programming is', 7)\n",
    "print(result)\n",
    "\n",
    "# start: 7, end: 18\n",
    "# 'programming' string is searched\n",
    "result = text.startswith('programming is', 7, 18)\n",
    "print(result)\n",
    "\n",
    "result = text.startswith('program', 7, 18)\n",
    "print(result)"
   ]
  },
  {
   "cell_type": "code",
   "execution_count": null,
   "metadata": {},
   "outputs": [],
   "source": [
    "text = \"programming is easy\"\n",
    "result = text.startswith(('python', 'programming'))\n",
    "\n",
    "# prints True\n",
    "print(result)\n",
    "\n",
    "result = text.startswith(('is', 'easy', 'java'))\n",
    "\n",
    "# prints False\n",
    "print(result)\n",
    "\n",
    "# With start and end parameter\n",
    "# 'is easy' string is checked\n",
    "result = text.startswith(('programming', 'easy'), 12, 19)\n",
    "\n",
    "# prints False\n",
    "print(result)"
   ]
  },
  {
   "cell_type": "markdown",
   "metadata": {},
   "source": [
    "# Python String title"
   ]
  },
  {
   "cell_type": "code",
   "execution_count": 13,
   "metadata": {},
   "outputs": [
    {
     "name": "stdout",
     "output_type": "stream",
     "text": [
      "My Favorite Number Is 25.\n",
      "234 K3L2 *43 Fun\n"
     ]
    }
   ],
   "source": [
    "text = 'My favorite number is 25.'\n",
    "print(text.title())\n",
    "\n",
    "text = '234 k3l2 *43 fun'\n",
    "print(text.title())"
   ]
  },
  {
   "cell_type": "code",
   "execution_count": 14,
   "metadata": {},
   "outputs": [
    {
     "name": "stdout",
     "output_type": "stream",
     "text": [
      "He'S An Engineer, Isn'T He?\n"
     ]
    }
   ],
   "source": [
    "text = \"He's an engineer, isn't he?\"\n",
    "print(text.title())\n"
   ]
  },
  {
   "cell_type": "code",
   "execution_count": 15,
   "metadata": {},
   "outputs": [
    {
     "name": "stdout",
     "output_type": "stream",
     "text": [
      "He's An Engineer, Isn't He?\n"
     ]
    }
   ],
   "source": [
    "import re\n",
    "\n",
    "def titlecase(s):\n",
    "    return re.sub(r\"[A-Za-z]+('[A-Za-z]+)?\",\n",
    "     lambda mo: mo.group(0)[0].upper() +\n",
    "     mo.group(0)[1:].lower(),\n",
    "     s)\n",
    "\n",
    "text = \"He's an engineer, isn't he?\"\n",
    "print(titlecase(text))"
   ]
  },
  {
   "cell_type": "markdown",
   "metadata": {},
   "source": [
    "# Python String zfill"
   ]
  },
  {
   "cell_type": "code",
   "execution_count": 16,
   "metadata": {},
   "outputs": [
    {
     "name": "stdout",
     "output_type": "stream",
     "text": [
      "0program is fun\n",
      "000000program is fun\n",
      "program is fun\n"
     ]
    }
   ],
   "source": [
    "text = \"program is fun\"\n",
    "print(text.zfill(15))\n",
    "print(text.zfill(20))\n",
    "print(text.zfill(10))"
   ]
  },
  {
   "cell_type": "code",
   "execution_count": 17,
   "metadata": {},
   "outputs": [
    {
     "name": "stdout",
     "output_type": "stream",
     "text": [
      "-0000290\n",
      "+0000290\n",
      "-0000000-random+text\n"
     ]
    }
   ],
   "source": [
    "number = \"-290\"\n",
    "print(number.zfill(8))\n",
    "\n",
    "number = \"+290\"\n",
    "print(number.zfill(8))\n",
    "\n",
    "text = \"--random+text\"\n",
    "print(text.zfill(20))"
   ]
  },
  {
   "cell_type": "markdown",
   "metadata": {},
   "source": [
    "# Python String format_map"
   ]
  },
  {
   "cell_type": "code",
   "execution_count": 18,
   "metadata": {},
   "outputs": [
    {
     "name": "stdout",
     "output_type": "stream",
     "text": [
      "4 -5\n"
     ]
    }
   ],
   "source": [
    "point = {'x':4,'y':-5}\n",
    "print('{x} {y}'.format(**point))"
   ]
  },
  {
   "cell_type": "code",
   "execution_count": 19,
   "metadata": {},
   "outputs": [
    {
     "name": "stdout",
     "output_type": "stream",
     "text": [
      "4 -5\n",
      "4 -5 0\n"
     ]
    }
   ],
   "source": [
    "point = {'x':4,'y':-5}\n",
    "print('{x} {y}'.format_map(point))\n",
    "\n",
    "point = {'x':4,'y':-5, 'z': 0}\n",
    "print('{x} {y} {z}'.format_map(point))"
   ]
  },
  {
   "cell_type": "code",
   "execution_count": 20,
   "metadata": {},
   "outputs": [
    {
     "name": "stdout",
     "output_type": "stream",
     "text": [
      "(6, y)\n",
      "(x, 5)\n",
      "(6, 5)\n"
     ]
    }
   ],
   "source": [
    "class Coordinate(dict):\n",
    "    def __missing__(self, key):\n",
    "      return key\n",
    "\n",
    "\n",
    "print('({x}, {y})'.format_map(Coordinate(x='6')))\n",
    "print('({x}, {y})'.format_map(Coordinate(y='5')))\n",
    "print('({x}, {y})'.format_map(Coordinate(x='6', y='5')))"
   ]
  },
  {
   "cell_type": "markdown",
   "metadata": {},
   "source": [
    "# Python Set remove"
   ]
  },
  {
   "cell_type": "code",
   "execution_count": 21,
   "metadata": {},
   "outputs": [
    {
     "name": "stdout",
     "output_type": "stream",
     "text": [
      "{'Java', 'Python'}\n"
     ]
    }
   ],
   "source": [
    "languages = {'Python', 'Java', 'English'}\n",
    "\n",
    "# remove English from the set\n",
    "languages.remove('English')\n",
    "\n",
    "\n",
    "print(languages)\n",
    "\n",
    "# Output: {'Python', 'Java'}"
   ]
  },
  {
   "cell_type": "code",
   "execution_count": 22,
   "metadata": {},
   "outputs": [
    {
     "name": "stdout",
     "output_type": "stream",
     "text": [
      "Updated language set: {'English', 'French'}\n"
     ]
    }
   ],
   "source": [
    "# language set\n",
    "language = {'English', 'French', 'German'}\n",
    "\n",
    "# removing 'German' from language\n",
    "language.remove('German')\n",
    "\n",
    "\n",
    "# Updated language set\n",
    "print('Updated language set:', language)"
   ]
  },
  {
   "cell_type": "code",
   "execution_count": 23,
   "metadata": {},
   "outputs": [],
   "source": [
    "# animal set\n",
    "animal = {'cat', 'dog', 'rabbit', 'guinea pig'}\n",
    "\n",
    "# Deleting 'fish' element\n",
    "animal.remove('fish')\n",
    "\n",
    "\n",
    "# Updated animal\n",
    "print('Updated animal set:', animal)"
   ]
  },
  {
   "cell_type": "markdown",
   "metadata": {},
   "source": [
    "# Python Set add"
   ]
  },
  {
   "cell_type": "code",
   "execution_count": 1,
   "metadata": {},
   "outputs": [
    {
     "name": "stdout",
     "output_type": "stream",
     "text": [
      "{2, 3, 5, 7, 11}\n"
     ]
    }
   ],
   "source": [
    "prime_numbers = {2, 3, 5, 7}\n",
    "\n",
    "# add 11 to prime_numbers\n",
    "prime_numbers.add(11)\n",
    "\n",
    "\n",
    "print(prime_numbers)\n",
    "\n",
    "# Output: {2, 3, 5, 7, 11}"
   ]
  },
  {
   "cell_type": "code",
   "execution_count": 2,
   "metadata": {},
   "outputs": [
    {
     "name": "stdout",
     "output_type": "stream",
     "text": [
      "Vowels are: {'u', 'e', 'a', 'i', 'o'}\n",
      "Vowels are: {'u', 'e', 'a', 'i', 'o'}\n"
     ]
    }
   ],
   "source": [
    "# set of vowels\n",
    "vowels = {'a', 'e', 'i', 'u'}\n",
    "\n",
    "# adding 'o'\n",
    "vowels.add('o')\n",
    "\n",
    "print('Vowels are:', vowels)\n",
    "\n",
    "# adding 'a' again\n",
    "vowels.add('a')\n",
    "\n",
    "print('Vowels are:', vowels)"
   ]
  },
  {
   "cell_type": "code",
   "execution_count": 3,
   "metadata": {},
   "outputs": [
    {
     "name": "stdout",
     "output_type": "stream",
     "text": [
      "Vowels are: {'e', ('i', 'o'), 'u', 'a'}\n",
      "Vowels are: {'e', ('i', 'o'), 'u', 'a'}\n"
     ]
    }
   ],
   "source": [
    "# set of vowels\n",
    "vowels = {'a', 'e', 'u'}\n",
    "\n",
    "# a tuple ('i', 'o')\n",
    "tup = ('i', 'o')\n",
    "\n",
    "# adding tuple\n",
    "vowels.add(tup)\n",
    "\n",
    "print('Vowels are:', vowels)\n",
    "\n",
    "# adding same tuple again\n",
    "vowels.add(tup)\n",
    "\n",
    "print('Vowels are:', vowels)"
   ]
  }
 ],
 "metadata": {
  "interpreter": {
   "hash": "916dbcbb3f70747c44a77c7bcd40155683ae19c65e1c03b4aa3499c5328201f1"
  },
  "kernelspec": {
   "display_name": "Python 3.8.10 64-bit",
   "language": "python",
   "name": "python3"
  },
  "language_info": {
   "codemirror_mode": {
    "name": "ipython",
    "version": 3
   },
   "file_extension": ".py",
   "mimetype": "text/x-python",
   "name": "python",
   "nbconvert_exporter": "python",
   "pygments_lexer": "ipython3",
   "version": "3.8.10"
  },
  "orig_nbformat": 4
 },
 "nbformat": 4,
 "nbformat_minor": 2
}
